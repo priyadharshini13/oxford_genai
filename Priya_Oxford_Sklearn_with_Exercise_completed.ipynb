{
  "cells": [
    {
      "cell_type": "markdown",
      "metadata": {
        "id": "B6kECm8TS7aY"
      },
      "source": [
        "# Introduction\n",
        "\n",
        "**Python** is one of the most used programming languages more for machine learning and deep learning. These are some reasons why python is used for machine learning:\n",
        "\n",
        "* Python is a simple and consistent programming language\n",
        "* It contains a variety of libraries and frameworks\n",
        "* Can be performed practically on any platform.\n",
        "\n",
        "In order to benefit from the flexible possibilities offered by the Python programming language, there are a set of libraries which are mostly used:\n",
        "\n",
        "* Scikitlearn\n",
        "* Numpy\n",
        "* Pandas\n",
        "* Matplotlib\n",
        "\n",
        "The notebook contains 1 exercise in total:\n",
        "\n",
        "* [Exercise 1](#ex_1)\n"
      ]
    },
    {
      "cell_type": "markdown",
      "metadata": {
        "id": "BzaMsRHAyjuF"
      },
      "source": [
        "# 1. Get started with Sklearn\n",
        "\n",
        "**Scikit-learn** is one of the most useful libraries for machine learning in Python. The sklearn library contains a lot of efficient tools for machine learning and statistical modeling including classification, regression, clustering and dimensionality reduction.\n",
        "\n",
        "We will be presenting different functions and possibilities that you can use with sklearn from python.\n",
        "\n",
        "First step is to implement the package into the workplace."
      ]
    },
    {
      "cell_type": "code",
      "execution_count": 2,
      "metadata": {
        "id": "m_TBqtQeCF_D"
      },
      "outputs": [],
      "source": [
        "#import scikit-learn\n",
        "import sklearn\n",
        "#Importing pandas, numpy, and matplotlib libraries\n",
        "import pandas as pd\n",
        "import matplotlib.pyplot as plt\n",
        "import numpy as np\n",
        "#Importing all preexisting datasets provided by sklearn\n",
        "from sklearn import datasets\n",
        "#From the \"ensemble\" models of sklearn we import the random forest classifier\n",
        "from sklearn.ensemble import RandomForestClassifier\n",
        "import warnings\n",
        "warnings.simplefilter(\"ignore\")"
      ]
    },
    {
      "cell_type": "markdown",
      "metadata": {
        "id": "TgbupQ1VjeBl"
      },
      "source": [
        "# 2. Case study"
      ]
    },
    {
      "cell_type": "markdown",
      "metadata": {
        "id": "wdNu9sXFT9SC"
      },
      "source": [
        "In order to understand and get used with  sklearn, it is better working with an application. In this notebook, we will be using the wine dataset."
      ]
    },
    {
      "cell_type": "markdown",
      "metadata": {
        "id": "QMnLwcHhDAEl"
      },
      "source": [
        "# 3. Load the dataset you want:"
      ]
    },
    {
      "cell_type": "code",
      "execution_count": 3,
      "metadata": {
        "id": "v6gjAs1TC5PB",
        "colab": {
          "base_uri": "https://localhost:8080/"
        },
        "outputId": "01b101b4-c851-4405-8209-c7d6776bce0a"
      },
      "outputs": [
        {
          "output_type": "stream",
          "name": "stdout",
          "text": [
            "dict_keys(['data', 'target', 'frame', 'target_names', 'DESCR', 'feature_names'])\n"
          ]
        }
      ],
      "source": [
        "#From sklearn dataset we specify which of these datasets we are using\n",
        "data= datasets.load_wine()\n",
        "print(data.keys())"
      ]
    },
    {
      "cell_type": "markdown",
      "metadata": {
        "id": "Pn3QtRdtDFoC"
      },
      "source": [
        "Note: If you want to discover the list of datasets offered by sklearn you can check the references section for more infos.\n",
        "\n",
        "Note: You can also upload your own dataset using pandas, as described in the links in the references section.\n",
        "\n",
        "\n",
        "\n"
      ]
    },
    {
      "cell_type": "markdown",
      "metadata": {
        "id": "1PNT2assiZEa"
      },
      "source": [
        "# 4. Data exploration"
      ]
    },
    {
      "cell_type": "code",
      "execution_count": 4,
      "metadata": {
        "id": "4CFqj_42EpsB",
        "colab": {
          "base_uri": "https://localhost:8080/"
        },
        "outputId": "7867c878-20bc-4bfa-cb3a-f366ec6bc62f"
      },
      "outputs": [
        {
          "output_type": "stream",
          "name": "stdout",
          "text": [
            ".. _wine_dataset:\n",
            "\n",
            "Wine recognition dataset\n",
            "------------------------\n",
            "\n",
            "**Data Set Characteristics:**\n",
            "\n",
            "    :Number of Instances: 178\n",
            "    :Number of Attributes: 13 numeric, predictive attributes and the class\n",
            "    :Attribute Information:\n",
            " \t\t- Alcohol\n",
            " \t\t- Malic acid\n",
            " \t\t- Ash\n",
            "\t\t- Alcalinity of ash  \n",
            " \t\t- Magnesium\n",
            "\t\t- Total phenols\n",
            " \t\t- Flavanoids\n",
            " \t\t- Nonflavanoid phenols\n",
            " \t\t- Proanthocyanins\n",
            "\t\t- Color intensity\n",
            " \t\t- Hue\n",
            " \t\t- OD280/OD315 of diluted wines\n",
            " \t\t- Proline\n",
            "\n",
            "    - class:\n",
            "            - class_0\n",
            "            - class_1\n",
            "            - class_2\n",
            "\t\t\n",
            "    :Summary Statistics:\n",
            "    \n",
            "    ============================= ==== ===== ======= =====\n",
            "                                   Min   Max   Mean     SD\n",
            "    ============================= ==== ===== ======= =====\n",
            "    Alcohol:                      11.0  14.8    13.0   0.8\n",
            "    Malic Acid:                   0.74  5.80    2.34  1.12\n",
            "    Ash:                          1.36  3.23    2.36  0.27\n",
            "    Alcalinity of Ash:            10.6  30.0    19.5   3.3\n",
            "    Magnesium:                    70.0 162.0    99.7  14.3\n",
            "    Total Phenols:                0.98  3.88    2.29  0.63\n",
            "    Flavanoids:                   0.34  5.08    2.03  1.00\n",
            "    Nonflavanoid Phenols:         0.13  0.66    0.36  0.12\n",
            "    Proanthocyanins:              0.41  3.58    1.59  0.57\n",
            "    Colour Intensity:              1.3  13.0     5.1   2.3\n",
            "    Hue:                          0.48  1.71    0.96  0.23\n",
            "    OD280/OD315 of diluted wines: 1.27  4.00    2.61  0.71\n",
            "    Proline:                       278  1680     746   315\n",
            "    ============================= ==== ===== ======= =====\n",
            "\n",
            "    :Missing Attribute Values: None\n",
            "    :Class Distribution: class_0 (59), class_1 (71), class_2 (48)\n",
            "    :Creator: R.A. Fisher\n",
            "    :Donor: Michael Marshall (MARSHALL%PLU@io.arc.nasa.gov)\n",
            "    :Date: July, 1988\n",
            "\n",
            "This is a copy of UCI ML Wine recognition datasets.\n",
            "https://archive.ics.uci.edu/ml/machine-learning-databases/wine/wine.data\n",
            "\n",
            "The data is the results of a chemical analysis of wines grown in the same\n",
            "region in Italy by three different cultivators. There are thirteen different\n",
            "measurements taken for different constituents found in the three types of\n",
            "wine.\n",
            "\n",
            "Original Owners: \n",
            "\n",
            "Forina, M. et al, PARVUS - \n",
            "An Extendible Package for Data Exploration, Classification and Correlation. \n",
            "Institute of Pharmaceutical and Food Analysis and Technologies,\n",
            "Via Brigata Salerno, 16147 Genoa, Italy.\n",
            "\n",
            "Citation:\n",
            "\n",
            "Lichman, M. (2013). UCI Machine Learning Repository\n",
            "[https://archive.ics.uci.edu/ml]. Irvine, CA: University of California,\n",
            "School of Information and Computer Science. \n",
            "\n",
            ".. topic:: References\n",
            "\n",
            "  (1) S. Aeberhard, D. Coomans and O. de Vel, \n",
            "  Comparison of Classifiers in High Dimensional Settings, \n",
            "  Tech. Rep. no. 92-02, (1992), Dept. of Computer Science and Dept. of  \n",
            "  Mathematics and Statistics, James Cook University of North Queensland. \n",
            "  (Also submitted to Technometrics). \n",
            "\n",
            "  The data was used with many others for comparing various \n",
            "  classifiers. The classes are separable, though only RDA \n",
            "  has achieved 100% correct classification. \n",
            "  (RDA : 100%, QDA 99.4%, LDA 98.9%, 1NN 96.1% (z-transformed data)) \n",
            "  (All results using the leave-one-out technique) \n",
            "\n",
            "  (2) S. Aeberhard, D. Coomans and O. de Vel, \n",
            "  \"THE CLASSIFICATION PERFORMANCE OF RDA\" \n",
            "  Tech. Rep. no. 92-01, (1992), Dept. of Computer Science and Dept. of \n",
            "  Mathematics and Statistics, James Cook University of North Queensland. \n",
            "  (Also submitted to Journal of Chemometrics).\n",
            "\n"
          ]
        }
      ],
      "source": [
        "#This function is a full description \"package\" it gives all infos you can need to know about your data\n",
        "print(data.DESCR)"
      ]
    },
    {
      "cell_type": "code",
      "execution_count": 5,
      "metadata": {
        "id": "_L8loNO3Nvq5",
        "colab": {
          "base_uri": "https://localhost:8080/",
          "height": 206
        },
        "outputId": "91e9c433-ee81-423d-94de-71715196ded2"
      },
      "outputs": [
        {
          "output_type": "execute_result",
          "data": {
            "text/plain": [
              "   alcohol  malic_acid   ash  alcalinity_of_ash  magnesium  total_phenols  \\\n",
              "0    14.23        1.71  2.43               15.6      127.0           2.80   \n",
              "1    13.20        1.78  2.14               11.2      100.0           2.65   \n",
              "2    13.16        2.36  2.67               18.6      101.0           2.80   \n",
              "3    14.37        1.95  2.50               16.8      113.0           3.85   \n",
              "4    13.24        2.59  2.87               21.0      118.0           2.80   \n",
              "\n",
              "   flavanoids  nonflavanoid_phenols  proanthocyanins  color_intensity   hue  \\\n",
              "0        3.06                  0.28             2.29             5.64  1.04   \n",
              "1        2.76                  0.26             1.28             4.38  1.05   \n",
              "2        3.24                  0.30             2.81             5.68  1.03   \n",
              "3        3.49                  0.24             2.18             7.80  0.86   \n",
              "4        2.69                  0.39             1.82             4.32  1.04   \n",
              "\n",
              "   od280/od315_of_diluted_wines  proline  target  \n",
              "0                          3.92   1065.0       0  \n",
              "1                          3.40   1050.0       0  \n",
              "2                          3.17   1185.0       0  \n",
              "3                          3.45   1480.0       0  \n",
              "4                          2.93    735.0       0  "
            ],
            "text/html": [
              "\n",
              "  <div id=\"df-526ffc1d-a766-4a84-ba27-3c4f163469f5\" class=\"colab-df-container\">\n",
              "    <div>\n",
              "<style scoped>\n",
              "    .dataframe tbody tr th:only-of-type {\n",
              "        vertical-align: middle;\n",
              "    }\n",
              "\n",
              "    .dataframe tbody tr th {\n",
              "        vertical-align: top;\n",
              "    }\n",
              "\n",
              "    .dataframe thead th {\n",
              "        text-align: right;\n",
              "    }\n",
              "</style>\n",
              "<table border=\"1\" class=\"dataframe\">\n",
              "  <thead>\n",
              "    <tr style=\"text-align: right;\">\n",
              "      <th></th>\n",
              "      <th>alcohol</th>\n",
              "      <th>malic_acid</th>\n",
              "      <th>ash</th>\n",
              "      <th>alcalinity_of_ash</th>\n",
              "      <th>magnesium</th>\n",
              "      <th>total_phenols</th>\n",
              "      <th>flavanoids</th>\n",
              "      <th>nonflavanoid_phenols</th>\n",
              "      <th>proanthocyanins</th>\n",
              "      <th>color_intensity</th>\n",
              "      <th>hue</th>\n",
              "      <th>od280/od315_of_diluted_wines</th>\n",
              "      <th>proline</th>\n",
              "      <th>target</th>\n",
              "    </tr>\n",
              "  </thead>\n",
              "  <tbody>\n",
              "    <tr>\n",
              "      <th>0</th>\n",
              "      <td>14.23</td>\n",
              "      <td>1.71</td>\n",
              "      <td>2.43</td>\n",
              "      <td>15.6</td>\n",
              "      <td>127.0</td>\n",
              "      <td>2.80</td>\n",
              "      <td>3.06</td>\n",
              "      <td>0.28</td>\n",
              "      <td>2.29</td>\n",
              "      <td>5.64</td>\n",
              "      <td>1.04</td>\n",
              "      <td>3.92</td>\n",
              "      <td>1065.0</td>\n",
              "      <td>0</td>\n",
              "    </tr>\n",
              "    <tr>\n",
              "      <th>1</th>\n",
              "      <td>13.20</td>\n",
              "      <td>1.78</td>\n",
              "      <td>2.14</td>\n",
              "      <td>11.2</td>\n",
              "      <td>100.0</td>\n",
              "      <td>2.65</td>\n",
              "      <td>2.76</td>\n",
              "      <td>0.26</td>\n",
              "      <td>1.28</td>\n",
              "      <td>4.38</td>\n",
              "      <td>1.05</td>\n",
              "      <td>3.40</td>\n",
              "      <td>1050.0</td>\n",
              "      <td>0</td>\n",
              "    </tr>\n",
              "    <tr>\n",
              "      <th>2</th>\n",
              "      <td>13.16</td>\n",
              "      <td>2.36</td>\n",
              "      <td>2.67</td>\n",
              "      <td>18.6</td>\n",
              "      <td>101.0</td>\n",
              "      <td>2.80</td>\n",
              "      <td>3.24</td>\n",
              "      <td>0.30</td>\n",
              "      <td>2.81</td>\n",
              "      <td>5.68</td>\n",
              "      <td>1.03</td>\n",
              "      <td>3.17</td>\n",
              "      <td>1185.0</td>\n",
              "      <td>0</td>\n",
              "    </tr>\n",
              "    <tr>\n",
              "      <th>3</th>\n",
              "      <td>14.37</td>\n",
              "      <td>1.95</td>\n",
              "      <td>2.50</td>\n",
              "      <td>16.8</td>\n",
              "      <td>113.0</td>\n",
              "      <td>3.85</td>\n",
              "      <td>3.49</td>\n",
              "      <td>0.24</td>\n",
              "      <td>2.18</td>\n",
              "      <td>7.80</td>\n",
              "      <td>0.86</td>\n",
              "      <td>3.45</td>\n",
              "      <td>1480.0</td>\n",
              "      <td>0</td>\n",
              "    </tr>\n",
              "    <tr>\n",
              "      <th>4</th>\n",
              "      <td>13.24</td>\n",
              "      <td>2.59</td>\n",
              "      <td>2.87</td>\n",
              "      <td>21.0</td>\n",
              "      <td>118.0</td>\n",
              "      <td>2.80</td>\n",
              "      <td>2.69</td>\n",
              "      <td>0.39</td>\n",
              "      <td>1.82</td>\n",
              "      <td>4.32</td>\n",
              "      <td>1.04</td>\n",
              "      <td>2.93</td>\n",
              "      <td>735.0</td>\n",
              "      <td>0</td>\n",
              "    </tr>\n",
              "  </tbody>\n",
              "</table>\n",
              "</div>\n",
              "    <div class=\"colab-df-buttons\">\n",
              "\n",
              "  <div class=\"colab-df-container\">\n",
              "    <button class=\"colab-df-convert\" onclick=\"convertToInteractive('df-526ffc1d-a766-4a84-ba27-3c4f163469f5')\"\n",
              "            title=\"Convert this dataframe to an interactive table.\"\n",
              "            style=\"display:none;\">\n",
              "\n",
              "  <svg xmlns=\"http://www.w3.org/2000/svg\" height=\"24px\" viewBox=\"0 -960 960 960\">\n",
              "    <path d=\"M120-120v-720h720v720H120Zm60-500h600v-160H180v160Zm220 220h160v-160H400v160Zm0 220h160v-160H400v160ZM180-400h160v-160H180v160Zm440 0h160v-160H620v160ZM180-180h160v-160H180v160Zm440 0h160v-160H620v160Z\"/>\n",
              "  </svg>\n",
              "    </button>\n",
              "\n",
              "  <style>\n",
              "    .colab-df-container {\n",
              "      display:flex;\n",
              "      gap: 12px;\n",
              "    }\n",
              "\n",
              "    .colab-df-convert {\n",
              "      background-color: #E8F0FE;\n",
              "      border: none;\n",
              "      border-radius: 50%;\n",
              "      cursor: pointer;\n",
              "      display: none;\n",
              "      fill: #1967D2;\n",
              "      height: 32px;\n",
              "      padding: 0 0 0 0;\n",
              "      width: 32px;\n",
              "    }\n",
              "\n",
              "    .colab-df-convert:hover {\n",
              "      background-color: #E2EBFA;\n",
              "      box-shadow: 0px 1px 2px rgba(60, 64, 67, 0.3), 0px 1px 3px 1px rgba(60, 64, 67, 0.15);\n",
              "      fill: #174EA6;\n",
              "    }\n",
              "\n",
              "    .colab-df-buttons div {\n",
              "      margin-bottom: 4px;\n",
              "    }\n",
              "\n",
              "    [theme=dark] .colab-df-convert {\n",
              "      background-color: #3B4455;\n",
              "      fill: #D2E3FC;\n",
              "    }\n",
              "\n",
              "    [theme=dark] .colab-df-convert:hover {\n",
              "      background-color: #434B5C;\n",
              "      box-shadow: 0px 1px 3px 1px rgba(0, 0, 0, 0.15);\n",
              "      filter: drop-shadow(0px 1px 2px rgba(0, 0, 0, 0.3));\n",
              "      fill: #FFFFFF;\n",
              "    }\n",
              "  </style>\n",
              "\n",
              "    <script>\n",
              "      const buttonEl =\n",
              "        document.querySelector('#df-526ffc1d-a766-4a84-ba27-3c4f163469f5 button.colab-df-convert');\n",
              "      buttonEl.style.display =\n",
              "        google.colab.kernel.accessAllowed ? 'block' : 'none';\n",
              "\n",
              "      async function convertToInteractive(key) {\n",
              "        const element = document.querySelector('#df-526ffc1d-a766-4a84-ba27-3c4f163469f5');\n",
              "        const dataTable =\n",
              "          await google.colab.kernel.invokeFunction('convertToInteractive',\n",
              "                                                    [key], {});\n",
              "        if (!dataTable) return;\n",
              "\n",
              "        const docLinkHtml = 'Like what you see? Visit the ' +\n",
              "          '<a target=\"_blank\" href=https://colab.research.google.com/notebooks/data_table.ipynb>data table notebook</a>'\n",
              "          + ' to learn more about interactive tables.';\n",
              "        element.innerHTML = '';\n",
              "        dataTable['output_type'] = 'display_data';\n",
              "        await google.colab.output.renderOutput(dataTable, element);\n",
              "        const docLink = document.createElement('div');\n",
              "        docLink.innerHTML = docLinkHtml;\n",
              "        element.appendChild(docLink);\n",
              "      }\n",
              "    </script>\n",
              "  </div>\n",
              "\n",
              "\n",
              "<div id=\"df-947ba75c-d8c1-452f-81e8-b6aa12a2f76a\">\n",
              "  <button class=\"colab-df-quickchart\" onclick=\"quickchart('df-947ba75c-d8c1-452f-81e8-b6aa12a2f76a')\"\n",
              "            title=\"Suggest charts\"\n",
              "            style=\"display:none;\">\n",
              "\n",
              "<svg xmlns=\"http://www.w3.org/2000/svg\" height=\"24px\"viewBox=\"0 0 24 24\"\n",
              "     width=\"24px\">\n",
              "    <g>\n",
              "        <path d=\"M19 3H5c-1.1 0-2 .9-2 2v14c0 1.1.9 2 2 2h14c1.1 0 2-.9 2-2V5c0-1.1-.9-2-2-2zM9 17H7v-7h2v7zm4 0h-2V7h2v10zm4 0h-2v-4h2v4z\"/>\n",
              "    </g>\n",
              "</svg>\n",
              "  </button>\n",
              "\n",
              "<style>\n",
              "  .colab-df-quickchart {\n",
              "      --bg-color: #E8F0FE;\n",
              "      --fill-color: #1967D2;\n",
              "      --hover-bg-color: #E2EBFA;\n",
              "      --hover-fill-color: #174EA6;\n",
              "      --disabled-fill-color: #AAA;\n",
              "      --disabled-bg-color: #DDD;\n",
              "  }\n",
              "\n",
              "  [theme=dark] .colab-df-quickchart {\n",
              "      --bg-color: #3B4455;\n",
              "      --fill-color: #D2E3FC;\n",
              "      --hover-bg-color: #434B5C;\n",
              "      --hover-fill-color: #FFFFFF;\n",
              "      --disabled-bg-color: #3B4455;\n",
              "      --disabled-fill-color: #666;\n",
              "  }\n",
              "\n",
              "  .colab-df-quickchart {\n",
              "    background-color: var(--bg-color);\n",
              "    border: none;\n",
              "    border-radius: 50%;\n",
              "    cursor: pointer;\n",
              "    display: none;\n",
              "    fill: var(--fill-color);\n",
              "    height: 32px;\n",
              "    padding: 0;\n",
              "    width: 32px;\n",
              "  }\n",
              "\n",
              "  .colab-df-quickchart:hover {\n",
              "    background-color: var(--hover-bg-color);\n",
              "    box-shadow: 0 1px 2px rgba(60, 64, 67, 0.3), 0 1px 3px 1px rgba(60, 64, 67, 0.15);\n",
              "    fill: var(--button-hover-fill-color);\n",
              "  }\n",
              "\n",
              "  .colab-df-quickchart-complete:disabled,\n",
              "  .colab-df-quickchart-complete:disabled:hover {\n",
              "    background-color: var(--disabled-bg-color);\n",
              "    fill: var(--disabled-fill-color);\n",
              "    box-shadow: none;\n",
              "  }\n",
              "\n",
              "  .colab-df-spinner {\n",
              "    border: 2px solid var(--fill-color);\n",
              "    border-color: transparent;\n",
              "    border-bottom-color: var(--fill-color);\n",
              "    animation:\n",
              "      spin 1s steps(1) infinite;\n",
              "  }\n",
              "\n",
              "  @keyframes spin {\n",
              "    0% {\n",
              "      border-color: transparent;\n",
              "      border-bottom-color: var(--fill-color);\n",
              "      border-left-color: var(--fill-color);\n",
              "    }\n",
              "    20% {\n",
              "      border-color: transparent;\n",
              "      border-left-color: var(--fill-color);\n",
              "      border-top-color: var(--fill-color);\n",
              "    }\n",
              "    30% {\n",
              "      border-color: transparent;\n",
              "      border-left-color: var(--fill-color);\n",
              "      border-top-color: var(--fill-color);\n",
              "      border-right-color: var(--fill-color);\n",
              "    }\n",
              "    40% {\n",
              "      border-color: transparent;\n",
              "      border-right-color: var(--fill-color);\n",
              "      border-top-color: var(--fill-color);\n",
              "    }\n",
              "    60% {\n",
              "      border-color: transparent;\n",
              "      border-right-color: var(--fill-color);\n",
              "    }\n",
              "    80% {\n",
              "      border-color: transparent;\n",
              "      border-right-color: var(--fill-color);\n",
              "      border-bottom-color: var(--fill-color);\n",
              "    }\n",
              "    90% {\n",
              "      border-color: transparent;\n",
              "      border-bottom-color: var(--fill-color);\n",
              "    }\n",
              "  }\n",
              "</style>\n",
              "\n",
              "  <script>\n",
              "    async function quickchart(key) {\n",
              "      const quickchartButtonEl =\n",
              "        document.querySelector('#' + key + ' button');\n",
              "      quickchartButtonEl.disabled = true;  // To prevent multiple clicks.\n",
              "      quickchartButtonEl.classList.add('colab-df-spinner');\n",
              "      try {\n",
              "        const charts = await google.colab.kernel.invokeFunction(\n",
              "            'suggestCharts', [key], {});\n",
              "      } catch (error) {\n",
              "        console.error('Error during call to suggestCharts:', error);\n",
              "      }\n",
              "      quickchartButtonEl.classList.remove('colab-df-spinner');\n",
              "      quickchartButtonEl.classList.add('colab-df-quickchart-complete');\n",
              "    }\n",
              "    (() => {\n",
              "      let quickchartButtonEl =\n",
              "        document.querySelector('#df-947ba75c-d8c1-452f-81e8-b6aa12a2f76a button');\n",
              "      quickchartButtonEl.style.display =\n",
              "        google.colab.kernel.accessAllowed ? 'block' : 'none';\n",
              "    })();\n",
              "  </script>\n",
              "</div>\n",
              "\n",
              "    </div>\n",
              "  </div>\n"
            ],
            "application/vnd.google.colaboratory.intrinsic+json": {
              "type": "dataframe",
              "variable_name": "df",
              "summary": "{\n  \"name\": \"df\",\n  \"rows\": 178,\n  \"fields\": [\n    {\n      \"column\": \"alcohol\",\n      \"properties\": {\n        \"dtype\": \"number\",\n        \"std\": 0.8118265380058575,\n        \"min\": 11.03,\n        \"max\": 14.83,\n        \"num_unique_values\": 126,\n        \"samples\": [\n          11.62,\n          13.64,\n          13.69\n        ],\n        \"semantic_type\": \"\",\n        \"description\": \"\"\n      }\n    },\n    {\n      \"column\": \"malic_acid\",\n      \"properties\": {\n        \"dtype\": \"number\",\n        \"std\": 1.1171460976144627,\n        \"min\": 0.74,\n        \"max\": 5.8,\n        \"num_unique_values\": 133,\n        \"samples\": [\n          1.21,\n          2.83,\n          1.8\n        ],\n        \"semantic_type\": \"\",\n        \"description\": \"\"\n      }\n    },\n    {\n      \"column\": \"ash\",\n      \"properties\": {\n        \"dtype\": \"number\",\n        \"std\": 0.27434400906081485,\n        \"min\": 1.36,\n        \"max\": 3.23,\n        \"num_unique_values\": 79,\n        \"samples\": [\n          2.31,\n          2.43,\n          2.52\n        ],\n        \"semantic_type\": \"\",\n        \"description\": \"\"\n      }\n    },\n    {\n      \"column\": \"alcalinity_of_ash\",\n      \"properties\": {\n        \"dtype\": \"number\",\n        \"std\": 3.339563767173505,\n        \"min\": 10.6,\n        \"max\": 30.0,\n        \"num_unique_values\": 63,\n        \"samples\": [\n          25.5,\n          28.5,\n          15.6\n        ],\n        \"semantic_type\": \"\",\n        \"description\": \"\"\n      }\n    },\n    {\n      \"column\": \"magnesium\",\n      \"properties\": {\n        \"dtype\": \"number\",\n        \"std\": 14.282483515295665,\n        \"min\": 70.0,\n        \"max\": 162.0,\n        \"num_unique_values\": 53,\n        \"samples\": [\n          126.0,\n          85.0,\n          162.0\n        ],\n        \"semantic_type\": \"\",\n        \"description\": \"\"\n      }\n    },\n    {\n      \"column\": \"total_phenols\",\n      \"properties\": {\n        \"dtype\": \"number\",\n        \"std\": 0.6258510488339893,\n        \"min\": 0.98,\n        \"max\": 3.88,\n        \"num_unique_values\": 97,\n        \"samples\": [\n          1.68,\n          2.11,\n          1.35\n        ],\n        \"semantic_type\": \"\",\n        \"description\": \"\"\n      }\n    },\n    {\n      \"column\": \"flavanoids\",\n      \"properties\": {\n        \"dtype\": \"number\",\n        \"std\": 0.9988586850169467,\n        \"min\": 0.34,\n        \"max\": 5.08,\n        \"num_unique_values\": 132,\n        \"samples\": [\n          3.18,\n          2.5,\n          3.17\n        ],\n        \"semantic_type\": \"\",\n        \"description\": \"\"\n      }\n    },\n    {\n      \"column\": \"nonflavanoid_phenols\",\n      \"properties\": {\n        \"dtype\": \"number\",\n        \"std\": 0.12445334029667937,\n        \"min\": 0.13,\n        \"max\": 0.66,\n        \"num_unique_values\": 39,\n        \"samples\": [\n          0.58,\n          0.41,\n          0.39\n        ],\n        \"semantic_type\": \"\",\n        \"description\": \"\"\n      }\n    },\n    {\n      \"column\": \"proanthocyanins\",\n      \"properties\": {\n        \"dtype\": \"number\",\n        \"std\": 0.5723588626747613,\n        \"min\": 0.41,\n        \"max\": 3.58,\n        \"num_unique_values\": 101,\n        \"samples\": [\n          0.75,\n          1.77,\n          1.42\n        ],\n        \"semantic_type\": \"\",\n        \"description\": \"\"\n      }\n    },\n    {\n      \"column\": \"color_intensity\",\n      \"properties\": {\n        \"dtype\": \"number\",\n        \"std\": 2.318285871822413,\n        \"min\": 1.28,\n        \"max\": 13.0,\n        \"num_unique_values\": 132,\n        \"samples\": [\n          2.95,\n          3.3,\n          5.1\n        ],\n        \"semantic_type\": \"\",\n        \"description\": \"\"\n      }\n    },\n    {\n      \"column\": \"hue\",\n      \"properties\": {\n        \"dtype\": \"number\",\n        \"std\": 0.22857156582982338,\n        \"min\": 0.48,\n        \"max\": 1.71,\n        \"num_unique_values\": 78,\n        \"samples\": [\n          1.22,\n          1.04,\n          1.45\n        ],\n        \"semantic_type\": \"\",\n        \"description\": \"\"\n      }\n    },\n    {\n      \"column\": \"od280/od315_of_diluted_wines\",\n      \"properties\": {\n        \"dtype\": \"number\",\n        \"std\": 0.7099904287650504,\n        \"min\": 1.27,\n        \"max\": 4.0,\n        \"num_unique_values\": 122,\n        \"samples\": [\n          4.0,\n          1.82,\n          1.59\n        ],\n        \"semantic_type\": \"\",\n        \"description\": \"\"\n      }\n    },\n    {\n      \"column\": \"proline\",\n      \"properties\": {\n        \"dtype\": \"number\",\n        \"std\": 314.9074742768491,\n        \"min\": 278.0,\n        \"max\": 1680.0,\n        \"num_unique_values\": 121,\n        \"samples\": [\n          1375.0,\n          1270.0,\n          735.0\n        ],\n        \"semantic_type\": \"\",\n        \"description\": \"\"\n      }\n    },\n    {\n      \"column\": \"target\",\n      \"properties\": {\n        \"dtype\": \"number\",\n        \"std\": 0,\n        \"min\": 0,\n        \"max\": 2,\n        \"num_unique_values\": 3,\n        \"samples\": [\n          0,\n          1,\n          2\n        ],\n        \"semantic_type\": \"\",\n        \"description\": \"\"\n      }\n    }\n  ]\n}"
            }
          },
          "metadata": {},
          "execution_count": 5
        }
      ],
      "source": [
        "#Defining the loaded dataset as a dataframe (dataframe: 2-dimensional labeled data structure with columns of potentially different types)\n",
        "df = pd.DataFrame(data.data, columns=data.feature_names)\n",
        "#Specifying the target is this dataset\n",
        "df['target'] = data.target\n",
        "#Displaying the first 5 lines of the dataset using head() function (5 is a default value)\n",
        "df.head()"
      ]
    },
    {
      "cell_type": "code",
      "execution_count": 6,
      "metadata": {
        "id": "aK7CaTXFOE9p",
        "colab": {
          "base_uri": "https://localhost:8080/"
        },
        "outputId": "2c580740-6c4c-4a71-c0ab-0544154f2d92"
      },
      "outputs": [
        {
          "output_type": "stream",
          "name": "stdout",
          "text": [
            "<class 'pandas.core.frame.DataFrame'>\n",
            "RangeIndex: 178 entries, 0 to 177\n",
            "Data columns (total 14 columns):\n",
            " #   Column                        Non-Null Count  Dtype  \n",
            "---  ------                        --------------  -----  \n",
            " 0   alcohol                       178 non-null    float64\n",
            " 1   malic_acid                    178 non-null    float64\n",
            " 2   ash                           178 non-null    float64\n",
            " 3   alcalinity_of_ash             178 non-null    float64\n",
            " 4   magnesium                     178 non-null    float64\n",
            " 5   total_phenols                 178 non-null    float64\n",
            " 6   flavanoids                    178 non-null    float64\n",
            " 7   nonflavanoid_phenols          178 non-null    float64\n",
            " 8   proanthocyanins               178 non-null    float64\n",
            " 9   color_intensity               178 non-null    float64\n",
            " 10  hue                           178 non-null    float64\n",
            " 11  od280/od315_of_diluted_wines  178 non-null    float64\n",
            " 12  proline                       178 non-null    float64\n",
            " 13  target                        178 non-null    int64  \n",
            "dtypes: float64(13), int64(1)\n",
            "memory usage: 19.6 KB\n"
          ]
        }
      ],
      "source": [
        "#Almost like DESCR function it gives infos about the variables types and number of null values.\n",
        "df.info()"
      ]
    },
    {
      "cell_type": "code",
      "execution_count": 7,
      "metadata": {
        "id": "lmnbLHkBOHz4",
        "colab": {
          "base_uri": "https://localhost:8080/"
        },
        "outputId": "455dbec3-b5ed-4878-8260-7401cfe7c328"
      },
      "outputs": [
        {
          "output_type": "execute_result",
          "data": {
            "text/plain": [
              "(54, 124)"
            ]
          },
          "metadata": {},
          "execution_count": 7
        }
      ],
      "source": [
        "#This function enables to split the dataset into a training and testing sets.\n",
        "from sklearn.model_selection import train_test_split\n",
        "#iloc is one of the features of dataframe by pandas, Purely integer-location based indexing for selection by position.\n",
        "#In below code we are specifying the target variable (y) and features (X)\n",
        "X, y = df.iloc[:, 1:].values, df.iloc[:, 0].values\n",
        "#Splitting the dataset into training and testing sets\n",
        "X_train, X_test, y_train, y_test = \\\n",
        "        train_test_split(X, y, test_size=0.3, random_state=0)\n",
        "#Displaying the length of the X_test and X_train\n",
        "len(X_test), len(X_train)"
      ]
    },
    {
      "cell_type": "code",
      "execution_count": 8,
      "metadata": {
        "id": "7hgkOhi-QnMo",
        "colab": {
          "base_uri": "https://localhost:8080/"
        },
        "outputId": "d66b4686-7410-48f5-bafa-e3217de559db"
      },
      "outputs": [
        {
          "output_type": "execute_result",
          "data": {
            "text/plain": [
              "array([0.20378151, 0.53763441, 0.30927835, 0.33695652, 0.54316547,\n",
              "       0.73700306, 0.25      , 0.40189873, 0.24068768, 0.48717949,\n",
              "       1.        , 0.5854251 , 0.        ])"
            ]
          },
          "metadata": {},
          "execution_count": 8
        }
      ],
      "source": [
        "#Transform features by scaling each feature to a given range.\n",
        "from sklearn.preprocessing import MinMaxScaler\n",
        "mms = MinMaxScaler()\n",
        " #the fit_transform function fits to data, then transforms it\n",
        "X_train_norm = mms.fit_transform(X_train)\n",
        "X_test_norm = mms.transform(X_test)\n",
        "\n",
        "X_train_norm[0]"
      ]
    },
    {
      "cell_type": "code",
      "execution_count": 9,
      "metadata": {
        "id": "8qnb-mAVQsp_",
        "colab": {
          "base_uri": "https://localhost:8080/"
        },
        "outputId": "f18d6c69-2e19-4c63-ae69-45c3fa3488cb"
      },
      "outputs": [
        {
          "output_type": "execute_result",
          "data": {
            "text/plain": [
              "array([0.16386555, 0.47849462, 0.29896907, 0.52173913, 0.53956835,\n",
              "       0.74311927, 0.13461538, 0.37974684, 0.4364852 , 0.32478632,\n",
              "       0.70695971, 0.60566802, 0.        ])"
            ]
          },
          "metadata": {},
          "execution_count": 9
        }
      ],
      "source": [
        "#Displaying the first raw of X_test after normalization\n",
        "X_test_norm[0]"
      ]
    },
    {
      "cell_type": "code",
      "execution_count": 10,
      "metadata": {
        "id": "fOhYT5fdQvJX"
      },
      "outputs": [],
      "source": [
        "# \"Standardize\" features by removing the mean and \"scaling\" to unit variance.\n",
        "from sklearn.preprocessing import StandardScaler\n",
        "stdsc = StandardScaler()\n",
        "X_train_std = stdsc.fit_transform(X_train)\n",
        "X_test_std = stdsc.transform(X_test)"
      ]
    },
    {
      "cell_type": "code",
      "execution_count": 11,
      "metadata": {
        "id": "YDMe7CFXQ1bf",
        "colab": {
          "base_uri": "https://localhost:8080/"
        },
        "outputId": "0edd0920-e034-4a5e-cca5-8b24779b811a"
      },
      "outputs": [
        {
          "output_type": "execute_result",
          "data": {
            "text/plain": [
              "array([-0.46259897, -0.01142613, -0.82067872,  0.06241693,  0.58820446,\n",
              "        0.93565436, -0.7619138 ,  0.13007174, -0.51238741,  0.65706596,\n",
              "        1.94354495,  0.93700997, -1.23563443])"
            ]
          },
          "metadata": {},
          "execution_count": 11
        }
      ],
      "source": [
        "X_train_std[0]"
      ]
    },
    {
      "cell_type": "code",
      "execution_count": 12,
      "metadata": {
        "id": "5yeqVqMAQ3cn",
        "colab": {
          "base_uri": "https://localhost:8080/",
          "height": 447
        },
        "outputId": "f7f92e20-9edf-4adf-b5ce-b45d28b9f8da"
      },
      "outputs": [
        {
          "output_type": "execute_result",
          "data": {
            "text/plain": [
              "<matplotlib.collections.PathCollection at 0x7cac5c373250>"
            ]
          },
          "metadata": {},
          "execution_count": 12
        },
        {
          "output_type": "display_data",
          "data": {
            "text/plain": [
              "<Figure size 640x480 with 1 Axes>"
            ],
            "image/png": "[encoded data removed]"
          },
          "metadata": {}
        }
      ],
      "source": [
        "xx = np.arange(len(X_train_std))\n",
        "yy1 = X_train_norm[:,1]\n",
        "yy2 = X_train_std[:,1]\n",
        "#PLot normalised data and standardized data.\n",
        "plt.scatter(xx, yy1, color='g')\n",
        "plt.scatter(xx, yy2, color='y')"
      ]
    },
    {
      "cell_type": "markdown",
      "metadata": {
        "id": "fqBxjrhP58hw"
      },
      "source": [
        "# 5. Training the model"
      ]
    },
    {
      "cell_type": "code",
      "execution_count": 13,
      "metadata": {
        "id": "u1X2IjuARSJa"
      },
      "outputs": [],
      "source": [
        "#importing prebuild logistic regression model\n",
        "from sklearn.linear_model import LogisticRegression\n",
        "#importing all preprocessing functions offered by sklearn\n",
        "from sklearn import preprocessing\n",
        "#contains many utilities : https://scikit-learn.org/stable/modules/classes.html#module-sklearn.utils\n",
        "from sklearn import utils"
      ]
    },
    {
      "cell_type": "code",
      "execution_count": 14,
      "metadata": {
        "id": "-J95S_nPRi34",
        "colab": {
          "base_uri": "https://localhost:8080/",
          "height": 74
        },
        "outputId": "e1854127-b61f-4885-da0e-2c8fcd88ed91"
      },
      "outputs": [
        {
          "output_type": "execute_result",
          "data": {
            "text/plain": [
              "LogisticRegression()"
            ],
            "text/html": [
              "<style>#sk-container-id-1 {color: black;background-color: white;}#sk-container-id-1 pre{padding: 0;}#sk-container-id-1 div.sk-toggleable {background-color: white;}#sk-container-id-1 label.sk-toggleable__label {cursor: pointer;display: block;width: 100%;margin-bottom: 0;padding: 0.3em;box-sizing: border-box;text-align: center;}#sk-container-id-1 label.sk-toggleable__label-arrow:before {content: \"▸\";float: left;margin-right: 0.25em;color: #696969;}#sk-container-id-1 label.sk-toggleable__label-arrow:hover:before {color: black;}#sk-container-id-1 div.sk-estimator:hover label.sk-toggleable__label-arrow:before {color: black;}#sk-container-id-1 div.sk-toggleable__content {max-height: 0;max-width: 0;overflow: hidden;text-align: left;background-color: #f0f8ff;}#sk-container-id-1 div.sk-toggleable__content pre {margin: 0.2em;color: black;border-radius: 0.25em;background-color: #f0f8ff;}#sk-container-id-1 input.sk-toggleable__control:checked~div.sk-toggleable__content {max-height: 200px;max-width: 100%;overflow: auto;}#sk-container-id-1 input.sk-toggleable__control:checked~label.sk-toggleable__label-arrow:before {content: \"▾\";}#sk-container-id-1 div.sk-estimator input.sk-toggleable__control:checked~label.sk-toggleable__label {background-color: #d4ebff;}#sk-container-id-1 div.sk-label input.sk-toggleable__control:checked~label.sk-toggleable__label {background-color: #d4ebff;}#sk-container-id-1 input.sk-hidden--visually {border: 0;clip: rect(1px 1px 1px 1px);clip: rect(1px, 1px, 1px, 1px);height: 1px;margin: -1px;overflow: hidden;padding: 0;position: absolute;width: 1px;}#sk-container-id-1 div.sk-estimator {font-family: monospace;background-color: #f0f8ff;border: 1px dotted black;border-radius: 0.25em;box-sizing: border-box;margin-bottom: 0.5em;}#sk-container-id-1 div.sk-estimator:hover {background-color: #d4ebff;}#sk-container-id-1 div.sk-parallel-item::after {content: \"\";width: 100%;border-bottom: 1px solid gray;flex-grow: 1;}#sk-container-id-1 div.sk-label:hover label.sk-toggleable__label {background-color: #d4ebff;}#sk-container-id-1 div.sk-serial::before {content: \"\";position: absolute;border-left: 1px solid gray;box-sizing: border-box;top: 0;bottom: 0;left: 50%;z-index: 0;}#sk-container-id-1 div.sk-serial {display: flex;flex-direction: column;align-items: center;background-color: white;padding-right: 0.2em;padding-left: 0.2em;position: relative;}#sk-container-id-1 div.sk-item {position: relative;z-index: 1;}#sk-container-id-1 div.sk-parallel {display: flex;align-items: stretch;justify-content: center;background-color: white;position: relative;}#sk-container-id-1 div.sk-item::before, #sk-container-id-1 div.sk-parallel-item::before {content: \"\";position: absolute;border-left: 1px solid gray;box-sizing: border-box;top: 0;bottom: 0;left: 50%;z-index: -1;}#sk-container-id-1 div.sk-parallel-item {display: flex;flex-direction: column;z-index: 1;position: relative;background-color: white;}#sk-container-id-1 div.sk-parallel-item:first-child::after {align-self: flex-end;width: 50%;}#sk-container-id-1 div.sk-parallel-item:last-child::after {align-self: flex-start;width: 50%;}#sk-container-id-1 div.sk-parallel-item:only-child::after {width: 0;}#sk-container-id-1 div.sk-dashed-wrapped {border: 1px dashed gray;margin: 0 0.4em 0.5em 0.4em;box-sizing: border-box;padding-bottom: 0.4em;background-color: white;}#sk-container-id-1 div.sk-label label {font-family: monospace;font-weight: bold;display: inline-block;line-height: 1.2em;}#sk-container-id-1 div.sk-label-container {text-align: center;}#sk-container-id-1 div.sk-container {/* jupyter's `normalize.less` sets `[hidden] { display: none; }` but bootstrap.min.css set `[hidden] { display: none !important; }` so we also need the `!important` here to be able to override the default hidden behavior on the sphinx rendered scikit-learn.org. See: https://github.com/scikit-learn/scikit-learn/issues/21755 */display: inline-block !important;position: relative;}#sk-container-id-1 div.sk-text-repr-fallback {display: none;}</style><div id=\"sk-container-id-1\" class=\"sk-top-container\"><div class=\"sk-text-repr-fallback\"><pre>LogisticRegression()</pre><b>In a Jupyter environment, please rerun this cell to show the HTML representation or trust the notebook. <br />On GitHub, the HTML representation is unable to render, please try loading this page with nbviewer.org.</b></div><div class=\"sk-container\" hidden><div class=\"sk-item\"><div class=\"sk-estimator sk-toggleable\"><input class=\"sk-toggleable__control sk-hidden--visually\" id=\"sk-estimator-id-1\" type=\"checkbox\" checked><label for=\"sk-estimator-id-1\" class=\"sk-toggleable__label sk-toggleable__label-arrow\">LogisticRegression</label><div class=\"sk-toggleable__content\"><pre>LogisticRegression()</pre></div></div></div></div></div>"
            ]
          },
          "metadata": {},
          "execution_count": 14
        }
      ],
      "source": [
        "#Defining the penalty or loss function as Ridge Regression (l2)\n",
        "LogisticRegression(penalty='l2')"
      ]
    },
    {
      "cell_type": "code",
      "execution_count": 15,
      "metadata": {
        "id": "gzsrdm90Rnia",
        "colab": {
          "base_uri": "https://localhost:8080/",
          "height": 713
        },
        "outputId": "beaa4724-b98e-4659-8ef1-30a719b05825"
      },
      "outputs": [
        {
          "output_type": "stream",
          "name": "stdout",
          "text": [
            " 1) malic_acid                     0.091255\n",
            " 2) ash                            0.088689\n",
            " 3) alcalinity_of_ash              0.088338\n",
            " 4) magnesium                      0.084768\n",
            " 5) total_phenols                  0.084368\n",
            " 6) flavanoids                     0.083987\n",
            " 7) nonflavanoid_phenols           0.081690\n",
            " 8) proanthocyanins                0.079783\n",
            " 9) color_intensity                0.079220\n",
            "10) hue                            0.077335\n",
            "11) od280/od315_of_diluted_wines   0.077285\n",
            "12) proline                        0.069214\n",
            "13) target                         0.014067\n"
          ]
        },
        {
          "output_type": "display_data",
          "data": {
            "text/plain": [
              "<Figure size 640x480 with 1 Axes>"
            ],
            "image/png": "[encoded data removed]"
          },
          "metadata": {}
        }
      ],
      "source": [
        "#Encoding the labels (encoding is techniques to transform categorical values to numerical)\n",
        "lab_enc = preprocessing.LabelEncoder()\n",
        "encoded1 = lab_enc.fit_transform(y_train)\n",
        "encoded2=lab_enc.fit_transform(y_test)\n",
        "#Specifying which colomns contain the labels of the features\n",
        "feat_labels = df.columns[1:]\n",
        "#Defining the classifier\n",
        "forest = RandomForestClassifier(n_estimators=10000, random_state=0, n_jobs=-1)\n",
        "forest.fit(X_train, encoded1)\n",
        "#Defining/calculating and plotting the importance of features (reflects at which point does a feature impact the output of the classifier)\n",
        "importances = forest.feature_importances_\n",
        "indices = np.argsort(importances)[::-1]\n",
        "\n",
        "for f in range(X_train.shape[1]):\n",
        "    print(\"%2d) %-*s %f\" % (f + 1, 30, feat_labels[f],importances[indices[f]]))\n",
        "\n",
        "plt.title('Feature Importances')\n",
        "plt.bar(range(X_train.shape[1]), importances[indices],\n",
        "                     color='cyan', align='center')\n",
        "plt.xticks(range(X_train.shape[1]),feat_labels, rotation=90)\n",
        "plt.xlim([-1, X_train.shape[1]])\n",
        "plt.tight_layout()\n",
        "plt.show()\n",
        "\n"
      ]
    },
    {
      "cell_type": "code",
      "execution_count": 17,
      "metadata": {
        "id": "fy8Y8U2efs3d",
        "colab": {
          "base_uri": "https://localhost:8080/"
        },
        "outputId": "56fbbd72-4455-487d-8f39-a75b3613aa66"
      },
      "outputs": [
        {
          "output_type": "stream",
          "name": "stdout",
          "text": [
            "Training accuracy: 0.1774193548387097\n",
            "Test accuracy: 0.018518518518518517\n"
          ]
        }
      ],
      "source": [
        "logi_regr = LogisticRegression(penalty='l2', C=0.1)\n",
        "logi_regr.fit(X_train_std, encoded1)\n",
        "print('Training accuracy:', logi_regr.score(X_train_std, encoded1))\n",
        "print('Test accuracy:', logi_regr.score(X_test_std, encoded2))"
      ]
    },
    {
      "cell_type": "code",
      "execution_count": 18,
      "metadata": {
        "id": "PlfePVsqOQoY",
        "colab": {
          "base_uri": "https://localhost:8080/"
        },
        "outputId": "f57755e0-4fdc-429f-99e3-b355808b3a5e"
      },
      "outputs": [
        {
          "output_type": "execute_result",
          "data": {
            "text/plain": [
              "array([-0.14489584, -0.08062705, -0.16167465, -0.11062112, -0.0792494 ,\n",
              "       -0.11247551, -0.1028813 , -0.13332679, -0.12258863,  0.51929559,\n",
              "        0.60754057, -0.14012412,  0.55894351, -0.08323716,  1.08611581,\n",
              "       -0.09710741, -0.18995015, -0.22657318, -0.09167553, -0.24611739,\n",
              "        0.93138875, -0.14207105, -0.07299175,  1.1145256 ,  0.85987055,\n",
              "       -0.23423945, -0.2391581 , -0.15182028, -0.27534857, -0.18200971,\n",
              "       -0.09443914,  0.58236718,  0.59227553,  0.35373007, -0.18740601,\n",
              "       -0.19776182, -0.1486476 ,  0.61362162, -0.14031667, -0.23836011,\n",
              "        0.5950974 , -0.16352467, -0.22391123, -0.12629369,  0.97511875,\n",
              "       -0.1189442 , -0.21835774, -0.1669757 ,  0.61357193,  0.27114931,\n",
              "       -0.16057059, -0.21977626, -0.08216378, -0.23009983, -0.11282535,\n",
              "       -0.15495646, -0.10652447, -0.18705943, -0.09324962, -0.21357494,\n",
              "       -0.08907182, -0.19753589,  0.57483036, -0.08525058, -0.21142722,\n",
              "       -0.10701881, -0.19636614, -0.18275349, -0.15129089, -0.16699625,\n",
              "       -0.09756074, -0.10637476,  0.60492517, -0.21763384, -0.23047945,\n",
              "       -0.13881291, -0.16181518, -0.24319354, -0.13777957, -0.20760467,\n",
              "        0.47556041, -0.14670555, -0.20181678, -0.17545395, -0.17881761,\n",
              "       -0.13417483, -0.18895057,  0.38892466, -0.11748462, -0.25595496,\n",
              "       -0.1833247 , -0.17997978, -0.20532509, -0.27998257,  0.23444184,\n",
              "       -0.14732129, -0.22253313])"
            ]
          },
          "metadata": {},
          "execution_count": 18
        }
      ],
      "source": [
        "logi_regr.intercept_"
      ]
    },
    {
      "cell_type": "code",
      "execution_count": 19,
      "metadata": {
        "id": "TsjEvflvcwFG",
        "colab": {
          "base_uri": "https://localhost:8080/"
        },
        "outputId": "c8ee28fd-810b-40b7-c8da-8e83027d12a1"
      },
      "outputs": [
        {
          "output_type": "execute_result",
          "data": {
            "text/plain": [
              "array([[-0.05909179, -0.051436  ,  0.05080077, ...,  0.020325  ,\n",
              "        -0.09634801,  0.01483679],\n",
              "       [ 0.00567544,  0.01754006,  0.01578918, ...,  0.0911785 ,\n",
              "        -0.04260064,  0.01901245],\n",
              "       [ 0.11586301, -0.17791055,  0.01232408, ...,  0.00726499,\n",
              "        -0.06290803,  0.02088253],\n",
              "       ...,\n",
              "       [ 0.10349329, -0.02822507, -0.19002598, ...,  0.06618283,\n",
              "         0.20973128, -0.10167811],\n",
              "       [-0.02831357,  0.02929251, -0.10921278, ...,  0.10555609,\n",
              "         0.13986064, -0.08396045],\n",
              "       [-0.03587384,  0.0102262 , -0.18710849, ..., -0.01697946,\n",
              "         0.08643183, -0.07478454]])"
            ]
          },
          "metadata": {},
          "execution_count": 19
        }
      ],
      "source": [
        "logi_regr.coef_"
      ]
    },
    {
      "cell_type": "code",
      "execution_count": 20,
      "metadata": {
        "id": "9-d6VQQYcyNU",
        "colab": {
          "base_uri": "https://localhost:8080/",
          "height": 458
        },
        "outputId": "ad7a6d06-efeb-4975-d4e0-74ecf2ca4d9a"
      },
      "outputs": [
        {
          "output_type": "display_data",
          "data": {
            "text/plain": [
              "<Figure size 640x480 with 1 Axes>"
            ],
            "image/png": "[encoded data removed]"
          },
          "metadata": {}
        }
      ],
      "source": [
        "#Plotting the evolution of the classifier's weights :\n",
        "fig = plt.figure()\n",
        "ax = plt.subplot(111)\n",
        "colors = ['blue', 'green', 'red', 'cyan',\n",
        "'magenta', 'yellow', 'black',\n",
        "'pink', 'lightgreen', 'lightblue',\n",
        "'gray', 'indigo', 'orange']\n",
        "weights, params = [], []\n",
        "for c in np.arange(0, 6):\n",
        "    lr = LogisticRegression(penalty='l2',C=10**c, random_state=0)\n",
        "    lr.fit(X_train_std, encoded1)\n",
        "    weights.append(lr.coef_[1])\n",
        "    params.append(10**c)\n",
        "weights = np.array(weights)\n",
        "for column, color in zip(range(weights.shape[1]), colors):\n",
        "    plt.plot(params, weights[:, column],\n",
        "        label=df.columns[column+1], color=color)\n",
        "plt.axhline(0, color='black', linestyle='--', linewidth=3)\n",
        "plt.xlim([10**(-5), 10**5])\n",
        "plt.ylabel('weight coefficient')\n",
        "plt.xlabel('C')\n",
        "plt.xscale('log')\n",
        "plt.legend(loc='upper left')\n",
        "plt.legend(loc='upper center',\n",
        "bbox_to_anchor=(1.38, 1.03),\n",
        "ncol=1, fancybox=True)\n",
        "plt.show()"
      ]
    },
    {
      "cell_type": "markdown",
      "metadata": {
        "id": "s9rE1B0Ciquq"
      },
      "source": [
        "# 6. Building ML models using sklearn package"
      ]
    },
    {
      "cell_type": "code",
      "execution_count": 21,
      "metadata": {
        "id": "CVZas_XuxDS6",
        "colab": {
          "base_uri": "https://localhost:8080/"
        },
        "outputId": "99187be1-e2cb-40fd-89be-8db431255722"
      },
      "outputs": [
        {
          "output_type": "execute_result",
          "data": {
            "text/plain": [
              "0.631578947368421"
            ]
          },
          "metadata": {},
          "execution_count": 21
        }
      ],
      "source": [
        "#those modules can be uploaded seperatly or in the same time it won t change much. the datasets contain vanilla datasets like Boston House Prices, Iris dataset and others.\n",
        "# the neighbors module contain such functions to implement the k-nearest neighbors algorithm while the preprocessing contain many prebuilt functions to process the data with already conventioned techniques.\n",
        "from sklearn import neighbors, datasets, preprocessing\n",
        " #train_test_split is a specific function in the model selection submodule of sklearn that enables you to split your data according to a norm and split rate that you choose.\n",
        "from sklearn.model_selection import train_test_split\n",
        "#metrics of sklearn enebales you to use prebuilt metrics for classification, regression...\n",
        "from sklearn.metrics import accuracy_score\n",
        "\n",
        "#In the following are some example of how to use the previously imported librarries:\n",
        "#You will notice that only with few lines of code we can upload the dataset:\n",
        "\n",
        "iris = datasets.load_iris()\n",
        "\n",
        "#We then decided what are the predictors and reponse :\n",
        "\n",
        "X, y = iris.data[:, :2], iris.target\n",
        "\n",
        "#We split the dataset into training and testing dataset\n",
        "\n",
        "X_train, X_test, y_train, y_test = train_test_split(X, y, random_state=33)\n",
        "\n",
        "#We processed the data applying standardization using the standardscaler function to standardize features by removing the mean and scaling to unit variance\n",
        "scaler = preprocessing.StandardScaler().fit(X_train)\n",
        "X_train = scaler.transform(X_train)\n",
        "X_test = scaler.transform(X_test)\n",
        "\n",
        "#build the model, here in this case, we are using a KNN (K-Nearest Neighbors)\n",
        "knn = neighbors.KNeighborsClassifier(n_neighbors=5)\n",
        "\n",
        "#Train the model using the fit function\n",
        "knn.fit(X_train, y_train)\n",
        "\n",
        "#Test the model using our dataset (test set)\n",
        "y_pred = knn.predict(X_test)\n",
        "\n",
        "#Evalute the model using functions from the submodule: metrics from sklearn, in this case we are using the accuracy score\n",
        "accuracy_score(y_test, y_pred)"
      ]
    },
    {
      "cell_type": "markdown",
      "metadata": {
        "id": "aQudGjMoi4tQ"
      },
      "source": [
        "If we trying to go more into details in this process:"
      ]
    },
    {
      "cell_type": "markdown",
      "metadata": {
        "id": "POYCGhvSU3ld"
      },
      "source": [
        "# 7. Preprocessing data"
      ]
    },
    {
      "cell_type": "markdown",
      "metadata": {
        "id": "phHoJR1ChYDO"
      },
      "source": [
        "### Standardization"
      ]
    },
    {
      "cell_type": "code",
      "execution_count": 22,
      "metadata": {
        "id": "ae7G_KF5f7CD"
      },
      "outputs": [],
      "source": [
        "from sklearn.preprocessing import StandardScaler\n",
        "scaler = StandardScaler().fit(X_train)\n",
        "standardized_X = scaler.transform(X_train)\n",
        "standardized_X_test = scaler.transform(X_test)"
      ]
    },
    {
      "cell_type": "markdown",
      "metadata": {
        "id": "J7FPqUfxhfmF"
      },
      "source": [
        "### Normalization"
      ]
    },
    {
      "cell_type": "code",
      "execution_count": 23,
      "metadata": {
        "id": "s9Hb9ALjf73D"
      },
      "outputs": [],
      "source": [
        "from sklearn.preprocessing import Normalizer\n",
        "scaler = Normalizer().fit(X_train)\n",
        "normalized_X = scaler.transform(X_train)\n",
        "normalized_X_test = scaler.transform(X_test)"
      ]
    },
    {
      "cell_type": "markdown",
      "metadata": {
        "id": "ZAq_APJdhict"
      },
      "source": [
        "### Binarization"
      ]
    },
    {
      "cell_type": "code",
      "execution_count": 24,
      "metadata": {
        "id": "-Img7nmygDqK"
      },
      "outputs": [],
      "source": [
        "from sklearn.preprocessing import Binarizer\n",
        "binarizer = Binarizer(threshold=0.0).fit(X)\n",
        "binary_X = binarizer.transform(X)"
      ]
    },
    {
      "cell_type": "markdown",
      "metadata": {
        "id": "YiqgwGwXhl3N"
      },
      "source": [
        "### Encoding Categorical Features"
      ]
    },
    {
      "cell_type": "code",
      "execution_count": 25,
      "metadata": {
        "id": "n6vwQZLDgESo"
      },
      "outputs": [],
      "source": [
        "from sklearn.preprocessing import LabelEncoder\n",
        "enc = LabelEncoder()\n",
        "y = enc.fit_transform(y)"
      ]
    },
    {
      "cell_type": "markdown",
      "metadata": {
        "id": "ncXb3XeChqNj"
      },
      "source": [
        "### Imputing missing values"
      ]
    },
    {
      "cell_type": "code",
      "execution_count": 26,
      "metadata": {
        "id": "qR9Bzm5NgGow",
        "colab": {
          "base_uri": "https://localhost:8080/"
        },
        "outputId": "4909a1d1-23bd-45e7-a21b-1c5b9dbbbd38"
      },
      "outputs": [
        {
          "output_type": "execute_result",
          "data": {
            "text/plain": [
              "array([[-0.91090798, -1.59775374],\n",
              "       [-1.0271058 ,  0.08448757],\n",
              "       [ 0.59966379, -1.59775374],\n",
              "       [ 0.01867465, -0.96691325],\n",
              "       [ 0.48346596, -0.33607276],\n",
              "       [-1.25950146,  0.29476773],\n",
              "       [-1.37569929,  0.71532806],\n",
              "       [-0.79471015, -1.17719341],\n",
              "       [-1.14330363,  0.71532806],\n",
              "       [ 2.45882905,  1.55644871],\n",
              "       [-0.79471015,  0.71532806],\n",
              "       [-0.79471015,  1.34616854],\n",
              "       [-0.21372101, -0.33607276],\n",
              "       [ 0.83205945, -0.1257926 ],\n",
              "       [-0.44611666,  1.76672887],\n",
              "       [ 1.41304859,  0.29476773],\n",
              "       [ 0.01867465, -0.54635292],\n",
              "       [ 2.22643339, -0.96691325],\n",
              "       [-0.32991883, -1.17719341],\n",
              "       [ 0.13487248,  0.29476773],\n",
              "       [-1.0271058 ,  1.13588838],\n",
              "       [-1.49189712, -1.59775374],\n",
              "       [ 0.59966379, -0.54635292],\n",
              "       [-1.60809495, -0.33607276],\n",
              "       [-0.91090798,  1.13588838],\n",
              "       [ 1.64544425, -0.1257926 ],\n",
              "       [ 0.25107031,  0.71532806],\n",
              "       [ 0.48346596, -1.8080339 ],\n",
              "       [ 1.8778399 , -0.54635292],\n",
              "       [ 1.18065293, -0.1257926 ],\n",
              "       [ 0.71586162, -0.54635292],\n",
              "       [-0.09752318, -1.17719341],\n",
              "       [-0.91090798,  0.92560822],\n",
              "       [-0.79471015,  1.55644871],\n",
              "       [ 1.18065293, -0.54635292],\n",
              "       [-0.67851232, -0.75663309],\n",
              "       [-0.79471015,  1.55644871],\n",
              "       [-0.21372101, -1.17719341],\n",
              "       [ 0.36726814, -0.1257926 ],\n",
              "       [ 0.94825728, -0.33607276],\n",
              "       [ 0.71586162, -0.54635292],\n",
              "       [-1.72429277, -0.1257926 ],\n",
              "       [ 1.64544425,  1.13588838],\n",
              "       [-0.79471015,  0.92560822],\n",
              "       [ 0.59966379, -1.17719341],\n",
              "       [-1.60809495,  0.29476773],\n",
              "       [ 2.11023556, -0.1257926 ],\n",
              "       [ 0.71586162,  0.29476773],\n",
              "       [-0.79471015,  1.55644871],\n",
              "       [ 0.83205945,  0.29476773],\n",
              "       [ 0.59966379, -0.75663309],\n",
              "       [-0.91090798,  0.92560822],\n",
              "       [-0.67851232,  0.71532806],\n",
              "       [ 0.71586162, -0.75663309],\n",
              "       [ 0.01867465,  1.97700903],\n",
              "       [-0.09752318,  2.81812969],\n",
              "       [-1.37569929,  0.29476773],\n",
              "       [ 1.29685076,  0.08448757],\n",
              "       [ 0.59966379, -0.33607276],\n",
              "       [-0.32991883,  0.92560822],\n",
              "       [-0.09752318, -0.96691325],\n",
              "       [-0.91090798,  0.50504789],\n",
              "       [ 0.25107031, -1.8080339 ],\n",
              "       [-1.0271058 , -0.1257926 ],\n",
              "       [-0.91090798, -2.22859423],\n",
              "       [ 0.94825728, -0.1257926 ],\n",
              "       [-0.09752318, -0.54635292],\n",
              "       [-0.32991883, -0.96691325],\n",
              "       [-0.32991883, -1.59775374],\n",
              "       [-1.14330363,  0.08448757],\n",
              "       [ 0.25107031, -0.33607276],\n",
              "       [-0.91090798, -0.1257926 ],\n",
              "       [ 1.29685076,  0.08448757],\n",
              "       [ 1.06445511, -1.17719341],\n",
              "       [-0.56231449,  1.34616854],\n",
              "       [-0.67851232,  2.1872892 ],\n",
              "       [-0.91090798,  0.71532806],\n",
              "       [-1.37569929,  1.13588838],\n",
              "       [ 2.22643339,  1.55644871],\n",
              "       [ 1.76164208, -0.33607276],\n",
              "       [-1.37569929,  0.08448757],\n",
              "       [-0.32991883, -1.38747358],\n",
              "       [ 0.01867465, -0.75663309],\n",
              "       [ 1.06445511,  0.50504789],\n",
              "       [ 0.01867465, -0.75663309],\n",
              "       [-0.44611666,  1.34616854],\n",
              "       [-0.91090798,  0.71532806],\n",
              "       [ 0.25107031, -0.75663309],\n",
              "       [-0.09752318, -0.54635292],\n",
              "       [ 0.36726814, -0.54635292],\n",
              "       [-0.79471015,  0.50504789],\n",
              "       [-0.21372101, -0.1257926 ],\n",
              "       [-0.44611666, -0.1257926 ],\n",
              "       [-0.44611666,  1.76672887],\n",
              "       [ 1.06445511,  0.50504789],\n",
              "       [-1.0271058 , -1.17719341],\n",
              "       [ 0.48346596,  0.71532806],\n",
              "       [-0.32991883, -1.38747358],\n",
              "       [ 2.22643339, -0.54635292],\n",
              "       [-0.44611666,  0.71532806],\n",
              "       [ 1.06445511, -0.1257926 ],\n",
              "       [-0.32991883,  2.39756936],\n",
              "       [-0.91090798,  0.29476773],\n",
              "       [-1.14330363, -0.1257926 ],\n",
              "       [ 0.01867465, -0.75663309],\n",
              "       [ 0.13487248, -0.1257926 ],\n",
              "       [ 1.52924642, -0.1257926 ],\n",
              "       [-1.0271058 , -1.38747358],\n",
              "       [ 0.59966379, -1.17719341],\n",
              "       [-0.21372101, -0.1257926 ],\n",
              "       [ 2.22643339, -0.1257926 ],\n",
              "       [-0.44611666,  0.71532806]])"
            ]
          },
          "metadata": {},
          "execution_count": 26
        }
      ],
      "source": [
        "from sklearn.impute import SimpleImputer\n",
        "imp = SimpleImputer(missing_values=0, strategy='mean')\n",
        "imp.fit_transform(X_train)"
      ]
    },
    {
      "cell_type": "markdown",
      "metadata": {
        "id": "v8qOQ5eghthi"
      },
      "source": [
        "## Generating Polynomial features"
      ]
    },
    {
      "cell_type": "code",
      "execution_count": 27,
      "metadata": {
        "id": "PVVieIxMgI9I",
        "colab": {
          "base_uri": "https://localhost:8080/"
        },
        "outputId": "63f71c79-6849-47ae-fbd7-cca9a926c553"
      },
      "outputs": [
        {
          "output_type": "execute_result",
          "data": {
            "text/plain": [
              "array([[1.00000000e+00, 5.10000000e+00, 3.50000000e+00, ...,\n",
              "        1.11517875e+03, 7.65318750e+02, 5.25218750e+02],\n",
              "       [1.00000000e+00, 4.90000000e+00, 3.00000000e+00, ...,\n",
              "        6.48270000e+02, 3.96900000e+02, 2.43000000e+02],\n",
              "       [1.00000000e+00, 4.70000000e+00, 3.20000000e+00, ...,\n",
              "        7.23845120e+02, 4.92830720e+02, 3.35544320e+02],\n",
              "       ...,\n",
              "       [1.00000000e+00, 6.50000000e+00, 3.00000000e+00, ...,\n",
              "        1.14075000e+03, 5.26500000e+02, 2.43000000e+02],\n",
              "       [1.00000000e+00, 6.20000000e+00, 3.40000000e+00, ...,\n",
              "        1.51084576e+03, 8.28528320e+02, 4.54354240e+02],\n",
              "       [1.00000000e+00, 5.90000000e+00, 3.00000000e+00, ...,\n",
              "        9.39870000e+02, 4.77900000e+02, 2.43000000e+02]])"
            ]
          },
          "metadata": {},
          "execution_count": 27
        }
      ],
      "source": [
        "from sklearn.preprocessing import PolynomialFeatures\n",
        "poly = PolynomialFeatures(5)\n",
        "poly.fit_transform(X)"
      ]
    },
    {
      "cell_type": "markdown",
      "metadata": {
        "id": "DnwYFVxxhx5W"
      },
      "source": [
        "# 8. Training and testing data"
      ]
    },
    {
      "cell_type": "code",
      "execution_count": 28,
      "metadata": {
        "id": "cPqGAn55gLIS"
      },
      "outputs": [],
      "source": [
        "from sklearn.model_selection import train_test_split\n",
        "X_train, X_test, y_train, y_test = train_test_split(X,y,random_state=0)"
      ]
    },
    {
      "cell_type": "markdown",
      "metadata": {
        "id": "hlDxajilh13L"
      },
      "source": [
        "# 9. Model creation"
      ]
    },
    {
      "cell_type": "markdown",
      "metadata": {
        "id": "xpUpNMWUVKGe"
      },
      "source": [
        "## Linear regression"
      ]
    },
    {
      "cell_type": "code",
      "execution_count": 29,
      "metadata": {
        "id": "1I0FMq-RgOTI"
      },
      "outputs": [],
      "source": [
        "from sklearn.linear_model import LinearRegression\n",
        "lr = LinearRegression()"
      ]
    },
    {
      "cell_type": "markdown",
      "metadata": {
        "id": "_paZ26uTiDH3"
      },
      "source": [
        "## Support Vector Machines"
      ]
    },
    {
      "cell_type": "code",
      "execution_count": 30,
      "metadata": {
        "id": "HTvZ-TW9glYz"
      },
      "outputs": [],
      "source": [
        "from sklearn.svm import SVC\n",
        "svc = SVC(kernel='linear')"
      ]
    },
    {
      "cell_type": "markdown",
      "metadata": {
        "id": "mO_zEeHciI_t"
      },
      "source": [
        "## Naive Bayes"
      ]
    },
    {
      "cell_type": "code",
      "execution_count": 31,
      "metadata": {
        "id": "j0m1o1OrgnEH"
      },
      "outputs": [],
      "source": [
        "from sklearn.naive_bayes import GaussianNB\n",
        "gnb = GaussianNB()"
      ]
    },
    {
      "cell_type": "markdown",
      "metadata": {
        "id": "fZt88Vm7iNeD"
      },
      "source": [
        "## KNN"
      ]
    },
    {
      "cell_type": "code",
      "execution_count": 32,
      "metadata": {
        "id": "txuBQ69Ygoh4"
      },
      "outputs": [],
      "source": [
        "from sklearn import neighbors\n",
        "knn = neighbors.KNeighborsClassifier(n_neighbors=5)"
      ]
    },
    {
      "cell_type": "markdown",
      "metadata": {
        "id": "eQnM0A7RiRLr"
      },
      "source": [
        "# 10. USING Principal Componenent Analysis"
      ]
    },
    {
      "cell_type": "code",
      "execution_count": 33,
      "metadata": {
        "id": "LtIZXKXrgqBa"
      },
      "outputs": [],
      "source": [
        "from sklearn.decomposition import PCA\n",
        "pca = PCA(n_components=0.95)"
      ]
    },
    {
      "cell_type": "markdown",
      "metadata": {
        "id": "UOh_1h-xFwS7"
      },
      "source": [
        "<a name=\"ex_1\"></a>\n",
        "# Exercise 1"
      ]
    },
    {
      "cell_type": "code",
      "execution_count": 40,
      "metadata": {
        "id": "LG0ABNqHFxlT",
        "colab": {
          "base_uri": "https://localhost:8080/"
        },
        "outputId": "0c4c4806-1c0c-4923-f8ee-29eb2dd976b0"
      },
      "outputs": [
        {
          "output_type": "stream",
          "name": "stdout",
          "text": [
            "[[1.038e+01 1.228e+02 1.001e+03 ... 4.601e-01 1.189e-01 0.000e+00]\n",
            " [1.777e+01 1.329e+02 1.326e+03 ... 2.750e-01 8.902e-02 0.000e+00]\n",
            " [2.125e+01 1.300e+02 1.203e+03 ... 3.613e-01 8.758e-02 0.000e+00]\n",
            " ...\n",
            " [2.808e+01 1.083e+02 8.581e+02 ... 2.218e-01 7.820e-02 0.000e+00]\n",
            " [2.933e+01 1.401e+02 1.265e+03 ... 4.087e-01 1.240e-01 0.000e+00]\n",
            " [2.454e+01 4.792e+01 1.810e+02 ... 2.871e-01 7.039e-02 1.000e+00]]\n",
            "[17.99  20.57  19.69  11.42  20.29  12.45  18.25  13.71  13.    12.46\n",
            " 16.02  15.78  19.17  15.85  13.73  14.54  14.68  16.13  19.81  13.54\n",
            " 13.08   9.504 15.34  21.16  16.65  17.14  14.58  18.61  15.3   17.57\n",
            " 18.63  11.84  17.02  19.27  16.13  16.74  14.25  13.03  14.99  13.48\n",
            " 13.44  10.95  19.07  13.28  13.17  18.65   8.196 13.17  12.05  13.49\n",
            " 11.76  13.64  11.94  18.22  15.1   11.52  19.21  14.71  13.05   8.618\n",
            " 10.17   8.598 14.25   9.173 12.68  14.78   9.465 11.31   9.029 12.78\n",
            " 18.94   8.888 17.2   13.8   12.31  16.07  13.53  18.05  20.18  12.86\n",
            " 11.45  13.34  25.22  19.1   12.    18.46  14.48  19.02  12.36  14.64\n",
            " 14.62  15.37  13.27  13.45  15.06  20.26  12.18   9.787 11.6   14.42\n",
            " 13.61   6.981 12.18   9.876 10.49  13.11  11.64  12.36  22.27  11.34\n",
            "  9.777 12.63  14.26  10.51   8.726 11.93   8.95  14.87  15.78  17.95\n",
            " 11.41  18.66  24.25  14.5   13.37  13.85  13.61  19.    15.1   19.79\n",
            " 12.19  15.46  16.16  15.71  18.45  12.77  11.71  11.43  14.95  11.28\n",
            "  9.738 16.11  11.43  12.9   10.75  11.9   11.8   14.95  14.44  13.74\n",
            " 13.     8.219  9.731 11.15  13.15  12.25  17.68  16.84  12.06  10.9\n",
            " 11.75  19.19  19.59  12.34  23.27  14.97  10.8   16.78  17.47  14.97\n",
            " 12.32  13.43  15.46  11.08  10.66   8.671  9.904 16.46  13.01  12.81\n",
            " 27.22  21.09  15.7   11.41  15.28  10.08  18.31  11.71  11.81  12.3\n",
            " 14.22  12.77   9.72  12.34  14.86  12.91  13.77  18.08  19.18  14.45\n",
            " 12.23  17.54  23.29  13.81  12.47  15.12   9.876 17.01  13.11  15.27\n",
            " 20.58  11.84  28.11  17.42  14.19  13.86  11.89  10.2   19.8   19.53\n",
            " 13.65  13.56  10.18  15.75  13.27  14.34  10.44  15.    12.62  12.83\n",
            " 17.05  11.32  11.22  20.51   9.567 14.03  23.21  20.48  14.22  17.46\n",
            " 13.64  12.42  11.3   13.75  19.4   10.48  13.2   12.89  10.65  11.52\n",
            " 20.94  11.5   19.73  17.3   19.45  13.96  19.55  15.32  15.66  15.53\n",
            " 20.31  17.35  17.29  15.61  17.19  20.73  10.6   13.59  12.87  10.71\n",
            " 14.29  11.29  21.75   9.742 17.93  11.89  11.33  18.81  13.59  13.85\n",
            " 19.16  11.74  19.4   16.24  12.89  12.58  11.94  12.89  11.26  11.37\n",
            " 14.41  14.96  12.95  11.85  12.72  13.77  10.91  11.76  14.26  10.51\n",
            " 19.53  12.46  20.09  10.49  11.46  11.6   13.2    9.    13.5   13.05\n",
            " 11.7   14.61  12.76  11.54   8.597 12.49  12.18  18.22   9.042 12.43\n",
            " 10.25  20.16  12.86  20.34  12.2   12.67  14.11  12.03  16.27  16.26\n",
            " 16.03  12.98  11.22  11.25  12.3   17.06  12.99  18.77  10.05  23.51\n",
            " 14.42   9.606 11.06  19.68  11.71  10.26  12.06  14.76  11.47  11.95\n",
            " 11.66  15.75  25.73  15.08  11.14  12.56  13.05  13.87   8.878  9.436\n",
            " 12.54  13.3   12.76  16.5   13.4   20.44  20.2   12.21  21.71  22.01\n",
            " 16.35  15.19  21.37  20.64  13.69  16.17  10.57  13.46  13.66  11.08\n",
            " 11.27  11.04  12.05  12.39  13.28  14.6   12.21  13.88  11.27  19.55\n",
            " 10.26   8.734 15.49  21.61  12.1   14.06  13.51  12.8   11.06  11.8\n",
            " 17.91  11.93  12.96  12.94  12.34  10.94  16.14  12.85  17.99  12.27\n",
            " 11.36  11.04   9.397 14.99  15.13  11.89   9.405 15.5   12.7   11.16\n",
            " 11.57  14.69  11.61  13.66   9.742 10.03  10.48  10.8   11.13  12.72\n",
            " 14.9   12.4   20.18  18.82  14.86  13.98  12.87  14.04  13.85  14.02\n",
            " 10.97  17.27  13.78  10.57  18.03  11.99  17.75  14.8   14.53  21.1\n",
            " 11.87  19.59  12.    14.53  12.62  13.38  11.63  13.21  13.     9.755\n",
            " 17.08  27.42  14.4   11.6   13.17  13.24  13.14   9.668 17.6   11.62\n",
            "  9.667 12.04  14.92  12.27  10.88  12.83  14.2   13.9   11.49  16.25\n",
            " 12.16  13.9   13.47  13.7   15.73  12.45  14.64  19.44  11.68  16.69\n",
            " 12.25  17.85  18.01  12.46  13.16  14.87  12.65  12.47  18.49  20.59\n",
            " 15.04  13.82  12.54  23.09   9.268  9.676 12.22  11.06  16.3   15.46\n",
            " 11.74  14.81  13.4   14.58  15.05  11.34  18.31  19.89  12.88  12.75\n",
            "  9.295 24.63  11.26  13.71   9.847  8.571 13.46  12.34  13.94  12.07\n",
            " 11.75  11.67  13.68  20.47  10.96  20.55  14.27  11.69   7.729  7.691\n",
            " 11.54  14.47  14.74  13.21  13.87  13.62  10.32  10.26   9.683 10.82\n",
            " 10.86  11.13  12.77   9.333 12.88  10.29  10.16   9.423 14.59  11.51\n",
            " 14.05  11.2   15.22  20.92  21.56  20.13  16.6   20.6    7.76 ]\n"
          ]
        }
      ],
      "source": [
        "#import the : numpy, pandas, and matplotlib libraries\n",
        "#import the dataset, models, and evaluation metrics from sklearn :\n",
        "\"\"\"\n",
        "Import:\n",
        "Logistic Regression from the sklearn.linear_model\n",
        "Linear Support Vector Machines for classification from the sklearn.svm\n",
        "Kneirest neighbors classfier from sklearn neighbors\n",
        "Random Forest Classifier from sklearn.ensemble\n",
        "train_test_split, cross_val_score, RandomizedSearchCV, GridSearchCV from sklearn.model_selection\n",
        "confusion_matrix, classification_report, precision_score, recall_score, f1_score, plot_roc_curve from sklearn.metrics\n",
        "load_breast_cancer from sklearn.datasets\n",
        "\"\"\"\n",
        "# Turn the feature data into a dataframe\n",
        "# Add the target columns, and fill it with the target data\n",
        "# Show the dataframe\n",
        "# See the dataframe information\n",
        "#Divide data into train and test sets\n",
        "\"\"\"\n",
        "this can be done in two steps:\n",
        "step1:\n",
        "Divide data into X (features) and y (target)\n",
        "\n",
        "step2:\n",
        "Divide data into test and training sets using train_test_split\n",
        "\n",
        "\"\"\"\n",
        "#Train the models imported\n",
        "#Using metrics imported, show all results of trained models\n",
        "\n",
        "#Write your code here\n",
        "import numpy as np\n",
        "import pandas as pd\n",
        "import matplotlib.pyplot as plt\n",
        "from sklearn.linear_model import LogisticRegression\n",
        "from sklearn.svm import LinearSVC\n",
        "from sklearn.neighbors import KNeighborsClassifier\n",
        "from sklearn.ensemble import RandomForestClassifier\n",
        "from sklearn.model_selection import train_test_split, cross_val_score, RandomizedSearchCV, GridSearchCV\n",
        "# from sklearn.metrics import confusion_matrix, classification_report, precision_score, recall_score, f1_score, plot_roc_curve\n",
        "from sklearn.datasets import load_breast_cancer\n",
        "from sklearn.metrics import accuracy_score, confusion_matrix #works\n",
        "\n",
        "\n",
        "data= datasets.load_breast_cancer()\n",
        "\n",
        "#Defining the loaded dataset as a dataframe (dataframe: 2-dimensional labeled data structure with columns of potentially different types)\n",
        "df = pd.DataFrame(data.data, columns=data.feature_names)\n",
        "# df.head()\n",
        "\n",
        "# #Specifying the target is this dataset\n",
        "df['target'] = data.target\n",
        "\n",
        "# print(df['target'])\n",
        "\n",
        "X, y = df.iloc[:, 1:].values, df.iloc[:, 0].values\n",
        "\n",
        "# #Splitting the dataset into training and testing sets\n",
        "X_train, X_test, y_train, y_test = train_test_split(X, y, test_size=0.3, random_state=0)\n",
        "\n",
        "print(X)\n",
        "print(y)\n",
        "\n",
        "#  #the fit_transform function fits to data, then transforms it\n",
        "# X_train_norm = mms.fit_transform(X_train)\n",
        "# X_test_norm = mms.transform(X_test)\n",
        "# stdsc = StandardScaler()\n",
        "# X_train_std = stdsc.fit_transform(X_train)\n",
        "# X_test_std = stdsc.transform(X_test)"
      ]
    },
    {
      "cell_type": "code",
      "source": [
        "# 1. Load or prepare your dataset\n",
        "data = datasets.load_breast_cancer()\n",
        "X = data.data\n",
        "y = data.target\n",
        "\n",
        "# 2. Split the dataset into training and testing sets\n",
        "X_train, X_test, y_train, y_test = train_test_split(X, y, test_size=0.2, random_state=42)\n",
        "\n",
        "# 3. Instantiate each model\n",
        "logistic_regression_model = LogisticRegression()\n",
        "linear_svc_model = LinearSVC()\n",
        "k_neighbors_model = KNeighborsClassifier()\n",
        "random_forest_model = RandomForestClassifier()\n",
        "\n",
        "# 4. Train each model using the training data\n",
        "logistic_regression_model.fit(X_train, y_train)\n",
        "linear_svc_model.fit(X_train, y_train)\n",
        "k_neighbors_model.fit(X_train, y_train)\n",
        "random_forest_model.fit(X_train, y_train)\n",
        "\n",
        "# 5. Make predictions using the trained models on the test data\n",
        "logistic_regression_preds = logistic_regression_model.predict(X_test)\n",
        "linear_svc_preds = linear_svc_model.predict(X_test)\n",
        "k_neighbors_preds = k_neighbors_model.predict(X_test)\n",
        "random_forest_preds = random_forest_model.predict(X_test)\n",
        "\n",
        "# 6. Evaluate the performance of each model using various metrics\n",
        "print(\"Logistic Regression:\")\n",
        "print(classification_report(y_test, logistic_regression_preds))\n",
        "print(\"Linear SVC:\")\n",
        "print(classification_report(y_test, linear_svc_preds))\n",
        "print(\"K-Nearest Neighbors:\")\n",
        "print(classification_report(y_test, k_neighbors_preds))\n",
        "print(\"Random Forest:\")\n",
        "print(classification_report(y_test, random_forest_preds))\n"
      ],
      "metadata": {
        "colab": {
          "base_uri": "https://localhost:8080/"
        },
        "id": "q3-DScgdUZcV",
        "outputId": "427e6f11-66c9-4246-f47e-be008fa69c79"
      },
      "execution_count": 41,
      "outputs": [
        {
          "output_type": "stream",
          "name": "stdout",
          "text": [
            "Logistic Regression:\n",
            "              precision    recall  f1-score   support\n",
            "\n",
            "           0       0.98      0.93      0.95        43\n",
            "           1       0.96      0.99      0.97        71\n",
            "\n",
            "    accuracy                           0.96       114\n",
            "   macro avg       0.97      0.96      0.96       114\n",
            "weighted avg       0.97      0.96      0.96       114\n",
            "\n",
            "Linear SVC:\n",
            "              precision    recall  f1-score   support\n",
            "\n",
            "           0       1.00      0.84      0.91        43\n",
            "           1       0.91      1.00      0.95        71\n",
            "\n",
            "    accuracy                           0.94       114\n",
            "   macro avg       0.96      0.92      0.93       114\n",
            "weighted avg       0.94      0.94      0.94       114\n",
            "\n",
            "K-Nearest Neighbors:\n",
            "              precision    recall  f1-score   support\n",
            "\n",
            "           0       1.00      0.88      0.94        43\n",
            "           1       0.93      1.00      0.97        71\n",
            "\n",
            "    accuracy                           0.96       114\n",
            "   macro avg       0.97      0.94      0.95       114\n",
            "weighted avg       0.96      0.96      0.96       114\n",
            "\n",
            "Random Forest:\n",
            "              precision    recall  f1-score   support\n",
            "\n",
            "           0       0.98      0.93      0.95        43\n",
            "           1       0.96      0.99      0.97        71\n",
            "\n",
            "    accuracy                           0.96       114\n",
            "   macro avg       0.97      0.96      0.96       114\n",
            "weighted avg       0.97      0.96      0.96       114\n",
            "\n"
          ]
        }
      ]
    },
    {
      "cell_type": "markdown",
      "source": [
        "# All metrics -\n",
        "1. Classification Report\n",
        "2. Precision\n",
        "3. Recall\n",
        "4. F1 Score"
      ],
      "metadata": {
        "id": "aRSWg-xGUZLU"
      }
    },
    {
      "cell_type": "code",
      "source": [
        "import numpy as np\n",
        "import pandas as pd\n",
        "import matplotlib.pyplot as plt\n",
        "from sklearn.linear_model import LogisticRegression\n",
        "from sklearn.svm import LinearSVC\n",
        "from sklearn.neighbors import KNeighborsClassifier\n",
        "from sklearn.ensemble import RandomForestClassifier\n",
        "from sklearn.model_selection import train_test_split, cross_val_score, RandomizedSearchCV, GridSearchCV\n",
        "from sklearn.metrics import confusion_matrix, classification_report, precision_score, recall_score, f1_score, roc_curve\n",
        "from sklearn.datasets import load_breast_cancer\n",
        "\n",
        "# Load the breast cancer dataset\n",
        "data = load_breast_cancer()\n",
        "X = data.data\n",
        "y = data.target\n",
        "\n",
        "# Turn the feature data into a dataframe\n",
        "df = pd.DataFrame(X, columns=data.feature_names)\n",
        "\n",
        "# Add the target column to the dataframe\n",
        "df['target'] = y\n",
        "\n",
        "# Show the dataframe\n",
        "print(\"DataFrame:\")\n",
        "print(df)\n",
        "\n",
        "# See the dataframe information\n",
        "print(\"\\nDataFrame Information:\")\n",
        "print(df.info())\n",
        "\n",
        "# Divide data into train and test sets\n",
        "# Step 1: Divide data into X (features) and y (target)\n",
        "X = df.drop('target', axis=1)\n",
        "y = df['target']\n",
        "\n",
        "# Step 2: Divide data into test and training sets using train_test_split\n",
        "X_train, X_test, y_train, y_test = train_test_split(X, y, test_size=0.2, random_state=42)\n",
        "\n",
        "# Train the models imported\n",
        "logistic_regression_model = LogisticRegression()\n",
        "linear_svc_model = LinearSVC()\n",
        "k_neighbors_model = KNeighborsClassifier()\n",
        "random_forest_model = RandomForestClassifier()\n",
        "\n",
        "logistic_regression_model.fit(X_train, y_train)\n",
        "linear_svc_model.fit(X_train, y_train)\n",
        "k_neighbors_model.fit(X_train, y_train)\n",
        "random_forest_model.fit(X_train, y_train)\n",
        "\n",
        "# Using metrics imported, show all results of trained models\n",
        "models = {\n",
        "    \"Logistic Regression\": logistic_regression_model,\n",
        "    \"Linear SVC\": linear_svc_model,\n",
        "    \"K-Nearest Neighbors\": k_neighbors_model,\n",
        "    \"Random Forest\": random_forest_model\n",
        "}\n",
        "\n",
        "for name, model in models.items():\n",
        "    print(\"\\nModel:\", name)\n",
        "    y_pred = model.predict(X_test)\n",
        "    print(\"Confusion Matrix:\")\n",
        "    print(confusion_matrix(y_test, y_pred))\n",
        "    print(\"Classification Report:\")\n",
        "    print(classification_report(y_test, y_pred))\n",
        "    print(\"Precision:\", precision_score(y_test, y_pred))\n",
        "    print(\"Recall:\", recall_score(y_test, y_pred))\n",
        "    print(\"F1 Score:\", f1_score(y_test, y_pred))\n",
        "    # roc_curve(X_test, y_test)\n",
        "    # plt.title(f\"ROC Curve - {name}\")\n",
        "    # plt.show()\n"
      ],
      "metadata": {
        "colab": {
          "base_uri": "https://localhost:8080/"
        },
        "id": "bcIeph57WAb9",
        "outputId": "d5e45663-65d2-49a2-e432-ca88faa6c073"
      },
      "execution_count": 5,
      "outputs": [
        {
          "output_type": "stream",
          "name": "stdout",
          "text": [
            "DataFrame:\n",
            "     mean radius  mean texture  mean perimeter  mean area  mean smoothness  \\\n",
            "0          17.99         10.38          122.80     1001.0          0.11840   \n",
            "1          20.57         17.77          132.90     1326.0          0.08474   \n",
            "2          19.69         21.25          130.00     1203.0          0.10960   \n",
            "3          11.42         20.38           77.58      386.1          0.14250   \n",
            "4          20.29         14.34          135.10     1297.0          0.10030   \n",
            "..           ...           ...             ...        ...              ...   \n",
            "564        21.56         22.39          142.00     1479.0          0.11100   \n",
            "565        20.13         28.25          131.20     1261.0          0.09780   \n",
            "566        16.60         28.08          108.30      858.1          0.08455   \n",
            "567        20.60         29.33          140.10     1265.0          0.11780   \n",
            "568         7.76         24.54           47.92      181.0          0.05263   \n",
            "\n",
            "     mean compactness  mean concavity  mean concave points  mean symmetry  \\\n",
            "0             0.27760         0.30010              0.14710         0.2419   \n",
            "1             0.07864         0.08690              0.07017         0.1812   \n",
            "2             0.15990         0.19740              0.12790         0.2069   \n",
            "3             0.28390         0.24140              0.10520         0.2597   \n",
            "4             0.13280         0.19800              0.10430         0.1809   \n",
            "..                ...             ...                  ...            ...   \n",
            "564           0.11590         0.24390              0.13890         0.1726   \n",
            "565           0.10340         0.14400              0.09791         0.1752   \n",
            "566           0.10230         0.09251              0.05302         0.1590   \n",
            "567           0.27700         0.35140              0.15200         0.2397   \n",
            "568           0.04362         0.00000              0.00000         0.1587   \n",
            "\n",
            "     mean fractal dimension  ...  worst texture  worst perimeter  worst area  \\\n",
            "0                   0.07871  ...          17.33           184.60      2019.0   \n",
            "1                   0.05667  ...          23.41           158.80      1956.0   \n",
            "2                   0.05999  ...          25.53           152.50      1709.0   \n",
            "3                   0.09744  ...          26.50            98.87       567.7   \n",
            "4                   0.05883  ...          16.67           152.20      1575.0   \n",
            "..                      ...  ...            ...              ...         ...   \n",
            "564                 0.05623  ...          26.40           166.10      2027.0   \n",
            "565                 0.05533  ...          38.25           155.00      1731.0   \n",
            "566                 0.05648  ...          34.12           126.70      1124.0   \n",
            "567                 0.07016  ...          39.42           184.60      1821.0   \n",
            "568                 0.05884  ...          30.37            59.16       268.6   \n",
            "\n",
            "     worst smoothness  worst compactness  worst concavity  \\\n",
            "0             0.16220            0.66560           0.7119   \n",
            "1             0.12380            0.18660           0.2416   \n",
            "2             0.14440            0.42450           0.4504   \n",
            "3             0.20980            0.86630           0.6869   \n",
            "4             0.13740            0.20500           0.4000   \n",
            "..                ...                ...              ...   \n",
            "564           0.14100            0.21130           0.4107   \n",
            "565           0.11660            0.19220           0.3215   \n",
            "566           0.11390            0.30940           0.3403   \n",
            "567           0.16500            0.86810           0.9387   \n",
            "568           0.08996            0.06444           0.0000   \n",
            "\n",
            "     worst concave points  worst symmetry  worst fractal dimension  target  \n",
            "0                  0.2654          0.4601                  0.11890       0  \n",
            "1                  0.1860          0.2750                  0.08902       0  \n",
            "2                  0.2430          0.3613                  0.08758       0  \n",
            "3                  0.2575          0.6638                  0.17300       0  \n",
            "4                  0.1625          0.2364                  0.07678       0  \n",
            "..                    ...             ...                      ...     ...  \n",
            "564                0.2216          0.2060                  0.07115       0  \n",
            "565                0.1628          0.2572                  0.06637       0  \n",
            "566                0.1418          0.2218                  0.07820       0  \n",
            "567                0.2650          0.4087                  0.12400       0  \n",
            "568                0.0000          0.2871                  0.07039       1  \n",
            "\n",
            "[569 rows x 31 columns]\n",
            "\n",
            "DataFrame Information:\n",
            "<class 'pandas.core.frame.DataFrame'>\n",
            "RangeIndex: 569 entries, 0 to 568\n",
            "Data columns (total 31 columns):\n",
            " #   Column                   Non-Null Count  Dtype  \n",
            "---  ------                   --------------  -----  \n",
            " 0   mean radius              569 non-null    float64\n",
            " 1   mean texture             569 non-null    float64\n",
            " 2   mean perimeter           569 non-null    float64\n",
            " 3   mean area                569 non-null    float64\n",
            " 4   mean smoothness          569 non-null    float64\n",
            " 5   mean compactness         569 non-null    float64\n",
            " 6   mean concavity           569 non-null    float64\n",
            " 7   mean concave points      569 non-null    float64\n",
            " 8   mean symmetry            569 non-null    float64\n",
            " 9   mean fractal dimension   569 non-null    float64\n",
            " 10  radius error             569 non-null    float64\n",
            " 11  texture error            569 non-null    float64\n",
            " 12  perimeter error          569 non-null    float64\n",
            " 13  area error               569 non-null    float64\n",
            " 14  smoothness error         569 non-null    float64\n",
            " 15  compactness error        569 non-null    float64\n",
            " 16  concavity error          569 non-null    float64\n",
            " 17  concave points error     569 non-null    float64\n",
            " 18  symmetry error           569 non-null    float64\n",
            " 19  fractal dimension error  569 non-null    float64\n",
            " 20  worst radius             569 non-null    float64\n",
            " 21  worst texture            569 non-null    float64\n",
            " 22  worst perimeter          569 non-null    float64\n",
            " 23  worst area               569 non-null    float64\n",
            " 24  worst smoothness         569 non-null    float64\n",
            " 25  worst compactness        569 non-null    float64\n",
            " 26  worst concavity          569 non-null    float64\n",
            " 27  worst concave points     569 non-null    float64\n",
            " 28  worst symmetry           569 non-null    float64\n",
            " 29  worst fractal dimension  569 non-null    float64\n",
            " 30  target                   569 non-null    int64  \n",
            "dtypes: float64(30), int64(1)\n",
            "memory usage: 137.9 KB\n",
            "None\n"
          ]
        },
        {
          "output_type": "stream",
          "name": "stderr",
          "text": [
            "/usr/local/lib/python3.10/dist-packages/sklearn/linear_model/_logistic.py:458: ConvergenceWarning: lbfgs failed to converge (status=1):\n",
            "STOP: TOTAL NO. of ITERATIONS REACHED LIMIT.\n",
            "\n",
            "Increase the number of iterations (max_iter) or scale the data as shown in:\n",
            "    https://scikit-learn.org/stable/modules/preprocessing.html\n",
            "Please also refer to the documentation for alternative solver options:\n",
            "    https://scikit-learn.org/stable/modules/linear_model.html#logistic-regression\n",
            "  n_iter_i = _check_optimize_result(\n",
            "/usr/local/lib/python3.10/dist-packages/sklearn/svm/_base.py:1244: ConvergenceWarning: Liblinear failed to converge, increase the number of iterations.\n",
            "  warnings.warn(\n"
          ]
        },
        {
          "output_type": "stream",
          "name": "stdout",
          "text": [
            "\n",
            "Model: Logistic Regression\n",
            "Confusion Matrix:\n",
            "[[40  3]\n",
            " [ 1 70]]\n",
            "Classification Report:\n",
            "              precision    recall  f1-score   support\n",
            "\n",
            "           0       0.98      0.93      0.95        43\n",
            "           1       0.96      0.99      0.97        71\n",
            "\n",
            "    accuracy                           0.96       114\n",
            "   macro avg       0.97      0.96      0.96       114\n",
            "weighted avg       0.97      0.96      0.96       114\n",
            "\n",
            "Precision: 0.958904109589041\n",
            "Recall: 0.9859154929577465\n",
            "F1 Score: 0.9722222222222222\n",
            "\n",
            "Model: Linear SVC\n",
            "Confusion Matrix:\n",
            "[[32 11]\n",
            " [ 0 71]]\n",
            "Classification Report:\n",
            "              precision    recall  f1-score   support\n",
            "\n",
            "           0       1.00      0.74      0.85        43\n",
            "           1       0.87      1.00      0.93        71\n",
            "\n",
            "    accuracy                           0.90       114\n",
            "   macro avg       0.93      0.87      0.89       114\n",
            "weighted avg       0.92      0.90      0.90       114\n",
            "\n",
            "Precision: 0.8658536585365854\n",
            "Recall: 1.0\n",
            "F1 Score: 0.9281045751633987\n",
            "\n",
            "Model: K-Nearest Neighbors\n",
            "Confusion Matrix:\n",
            "[[38  5]\n",
            " [ 0 71]]\n",
            "Classification Report:\n",
            "              precision    recall  f1-score   support\n",
            "\n",
            "           0       1.00      0.88      0.94        43\n",
            "           1       0.93      1.00      0.97        71\n",
            "\n",
            "    accuracy                           0.96       114\n",
            "   macro avg       0.97      0.94      0.95       114\n",
            "weighted avg       0.96      0.96      0.96       114\n",
            "\n",
            "Precision: 0.9342105263157895\n",
            "Recall: 1.0\n",
            "F1 Score: 0.9659863945578232\n",
            "\n",
            "Model: Random Forest\n",
            "Confusion Matrix:\n",
            "[[40  3]\n",
            " [ 1 70]]\n",
            "Classification Report:\n",
            "              precision    recall  f1-score   support\n",
            "\n",
            "           0       0.98      0.93      0.95        43\n",
            "           1       0.96      0.99      0.97        71\n",
            "\n",
            "    accuracy                           0.96       114\n",
            "   macro avg       0.97      0.96      0.96       114\n",
            "weighted avg       0.97      0.96      0.96       114\n",
            "\n",
            "Precision: 0.958904109589041\n",
            "Recall: 0.9859154929577465\n",
            "F1 Score: 0.9722222222222222\n"
          ]
        }
      ]
    },
    {
      "cell_type": "markdown",
      "source": [
        "# ROC Curve"
      ],
      "metadata": {
        "id": "Q5D6n02tdIry"
      }
    },
    {
      "cell_type": "code",
      "source": [
        "import numpy as np\n",
        "import matplotlib.pyplot as plt\n",
        "from sklearn.datasets import make_classification\n",
        "from sklearn.model_selection import train_test_split\n",
        "from sklearn.linear_model import LogisticRegression\n",
        "from sklearn.metrics import roc_curve, auc\n",
        "from sklearn.datasets import load_breast_cancer\n",
        "\n",
        "# 1. Load or prepare your dataset\n",
        "data = load_breast_cancer()\n",
        "X = data.data\n",
        "y = data.target\n",
        "\n",
        "# Split the dataset into training and testing sets\n",
        "X_train, X_test, y_train, y_test = train_test_split(X, y, test_size=0.2, random_state=42)\n",
        "\n",
        "# Initialize and train a logistic regression model\n",
        "model = LogisticRegression()\n",
        "model.fit(X_train, y_train)\n",
        "\n",
        "y_pred = model.predict(X_test)\n",
        "\n",
        "# Calculate false positive rate, true positive rate, and thresholds\n",
        "fpr, tpr, thresholds = roc_curve(y_test, y_pred)\n",
        "\n",
        "# Calculate the area under the ROC curve (AUC)\n",
        "roc_auc = auc(fpr, tpr)\n",
        "\n",
        "# Plot the ROC curve\n",
        "plt.figure(figsize=(8, 6))\n",
        "plt.plot(fpr, tpr, color='blue', lw=2, label='ROC curve (area = %0.2f)' % roc_auc)\n",
        "plt.plot([0, 1], [0, 1], color='gray', linestyle='--')\n",
        "plt.xlim([0.0, 1.0])\n",
        "plt.ylim([0.0, 1.05])\n",
        "plt.xlabel('False Positive Rate')\n",
        "plt.ylabel('True Positive Rate')\n",
        "plt.title('Receiver Operating Characteristic (ROC) Curve')\n",
        "plt.legend(loc=\"lower right\")\n",
        "plt.show()\n"
      ],
      "metadata": {
        "colab": {
          "base_uri": "https://localhost:8080/",
          "height": 703
        },
        "id": "_SqplgdfZYaK",
        "outputId": "b444f73a-3b46-4dd2-9b99-5e08dc59efd8"
      },
      "execution_count": 8,
      "outputs": [
        {
          "output_type": "stream",
          "name": "stderr",
          "text": [
            "/usr/local/lib/python3.10/dist-packages/sklearn/linear_model/_logistic.py:458: ConvergenceWarning: lbfgs failed to converge (status=1):\n",
            "STOP: TOTAL NO. of ITERATIONS REACHED LIMIT.\n",
            "\n",
            "Increase the number of iterations (max_iter) or scale the data as shown in:\n",
            "    https://scikit-learn.org/stable/modules/preprocessing.html\n",
            "Please also refer to the documentation for alternative solver options:\n",
            "    https://scikit-learn.org/stable/modules/linear_model.html#logistic-regression\n",
            "  n_iter_i = _check_optimize_result(\n"
          ]
        },
        {
          "output_type": "display_data",
          "data": {
            "text/plain": [
              "<Figure size 800x600 with 1 Axes>"
            ],
            "image/png": "[encoded data removed]"
          },
          "metadata": {}
        }
      ]
    },
    {
      "cell_type": "markdown",
      "metadata": {
        "id": "KRpsxtwxS05P"
      },
      "source": [
        "# 11. References"
      ]
    },
    {
      "cell_type": "markdown",
      "metadata": {
        "id": "0io3HT1bSyba"
      },
      "source": [
        "[1] https://scikit-learn.org/stable/install.html\n",
        "\n",
        "\n",
        "\n",
        "[2] https://scikit-learn.org/stable/\n",
        "\n",
        "\n",
        "\n",
        "[3] https://scikit-learn.org/stable/datasets/toy_dataset.html\n",
        "\n",
        "\n",
        "\n",
        "[4] https://realpython.com/tutorials/databases/\n",
        "\n",
        "\n",
        "\n",
        "[5] https://github.com/asavinov/machine-learning-and-data-processing\n",
        "\n",
        "\n",
        "\n",
        "[6] http://totoharyanto.staff.ipb.ac.id/files/2012/10/Building-Machine-Learning-Systems-with-Python-Richert-Coelho.pdf\n",
        "\n",
        "\n",
        "\n",
        "[7] https://scikit-learn.org/stable/auto_examples/classification/plot_digits_classification.html#sphx-glr-auto-examples-classification-plot-digits-classification-py\n",
        "\n",
        "\n",
        "\n",
        "\n",
        "[8] https://scikit-learn.org/stable/modules/neighbors.html\n",
        "\n",
        "\n",
        "\n",
        "[9] https://scikit-learn.org/stable/modules/grid_search.html\n",
        "\n",
        "\n",
        "\n",
        "\n",
        "[10] https://scikit-learn.org/stable/modules/model_evaluation.html\n"
      ]
    }
  ],
  "metadata": {
    "colab": {
      "provenance": []
    },
    "kernelspec": {
      "display_name": "Python 3",
      "name": "python3"
    },
    "language_info": {
      "name": "python"
    }
  },
  "nbformat": 4,
  "nbformat_minor": 0
}